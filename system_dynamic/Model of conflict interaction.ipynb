{
 "cells": [
  {
   "cell_type": "markdown",
   "id": "9348afd6",
   "metadata": {},
   "source": [
    "# Модель конфликтного взаимодействия\n",
    "\n",
    "## Описание модели\n",
    "\n",
    "$$\\dot{N_1}(t) = - \\alpha_1(t) (a(t) - N_1(t))(b(t) - N_2(t)) + \\beta_1(t)N_1(t)N_2(t)$$\n",
    "\n",
    "$$\\dot{N_2}(t) = - \\alpha_2(t) (a(t) - N_1(t))(b(t) - N_2(t)) + \\beta_2(t)N_1(t)N_2(t)$$\n",
    "\n",
    "$$N_1(0) = 2 \\times 10^4, \\, N_2(0) = 8 \\times 10^5$$\n",
    "\n",
    "$$a(t) = 2 \\times 10^5$$\n",
    "\n",
    "$$b(t) = 4 \\times 10^6$$\n",
    "\n",
    "$$\\alpha_1(t) = 4 \\times 10^{-11} e^{\\frac{t}{T}}$$\n",
    "\n",
    "$$\\alpha_2(t) = 10^{-11} e^{\\frac{t}{T}}$$\n",
    "\n",
    "$$\\beta_1(t) = 10^{-8} e^{\\frac{t}{T}}$$\n",
    "\n",
    "$$\\beta_2(t) = 7.5 \\times 10^{-8} e^{\\frac{t}{T}}$$\n",
    "\n",
    "\n",
    "\n",
    "## Реализация модели\n",
    "\n",
    "Импортируем инструменты"
   ]
  },
  {
   "cell_type": "code",
   "execution_count": 1,
   "id": "8e65347a",
   "metadata": {},
   "outputs": [],
   "source": [
    "import numpy as np\n",
    "import matplotlib.pyplot as plt\n",
    "\n",
    "from math import exp\n",
    "\n",
    "from dsolvemethods import CauchyProblem, RungeKutta, VectorFunction"
   ]
  },
  {
   "cell_type": "markdown",
   "id": "5decf57c",
   "metadata": {},
   "source": [
    "Задаём начальные параметры"
   ]
  },
  {
   "cell_type": "code",
   "execution_count": 2,
   "id": "adc7701d",
   "metadata": {},
   "outputs": [],
   "source": [
    "N_1 = 8 * 10**5\n",
    "N_2 = 2 * 10**4\n",
    "T = 50"
   ]
  },
  {
   "cell_type": "markdown",
   "id": "466a6ef7",
   "metadata": {},
   "source": [
    "Задаём параметры системы"
   ]
  },
  {
   "cell_type": "code",
   "execution_count": 3,
   "id": "ad86b039",
   "metadata": {},
   "outputs": [],
   "source": [
    "a = 2 * 10**5\n",
    "b = 4 * 10**6\n",
    "\n",
    "a_10 = 4 * 10**(-11)\n",
    "alpha_1 = lambda t: a_10 * exp(t/T)\n",
    "\n",
    "a_20 = 10**(-11)\n",
    "alpha_2 = lambda t: a_20 * exp(t/T)\n",
    "\n",
    "b_10 = 10**(-8)\n",
    "beta_1 = lambda t: b_10 * exp(t/T)\n",
    "\n",
    "b_20 = 7.5 * 10**(-8)\n",
    "beta_2 = lambda t: b_20 * exp(t/T)"
   ]
  },
  {
   "cell_type": "markdown",
   "id": "feeeb441",
   "metadata": {},
   "source": [
    "Задаём систему уравнений полагая\n",
    "\n",
    "$$y = (l, r)^T$$"
   ]
  },
  {
   "cell_type": "code",
   "execution_count": 4,
   "id": "a3611200",
   "metadata": {},
   "outputs": [],
   "source": [
    "f = VectorFunction(\n",
    "    [\n",
    "        lambda t, y: -alpha_1(t)*(a - y[0])*(b - y[1]) + beta_1(t)*y[0]*y[1],\n",
    "        lambda t, y: -alpha_2(t)*(a - y[0])*(b - y[1]) + beta_2(t)*y[0]*y[1]\n",
    "    ]\n",
    ")"
   ]
  },
  {
   "cell_type": "markdown",
   "id": "3b99fe03",
   "metadata": {},
   "source": [
    "Задаём задачу Коши"
   ]
  },
  {
   "cell_type": "code",
   "execution_count": 5,
   "id": "e847cd12",
   "metadata": {},
   "outputs": [],
   "source": [
    "model = CauchyProblem(f, 0.0, np.array([N_1, N_2]))"
   ]
  },
  {
   "cell_type": "markdown",
   "id": "ab6884b1",
   "metadata": {},
   "source": [
    "Инициализируем солвер и строим траектории  𝑦  для четырёх месяцев."
   ]
  },
  {
   "cell_type": "code",
   "execution_count": 6,
   "id": "71093e93",
   "metadata": {},
   "outputs": [
    {
     "data": {
      "image/png": "[encoded data removed]",
      "text/plain": [
       "<Figure size 720x432 with 1 Axes>"
      ]
     },
     "metadata": {
      "needs_background": "light"
     },
     "output_type": "display_data"
    },
    {
     "name": "stdout",
     "output_type": "stream",
     "text": [
      "Wall time: 2.25 s\n"
     ]
    }
   ],
   "source": [
    "%%time\n",
    "\n",
    "rk = RungeKutta(h=0.001)\n",
    "args, values = rk.solve(model, T)\n",
    "\n",
    "plt.figure(figsize=(10, 6))\n",
    "plt.plot(args, values[:, 0], label='N_1(t)')\n",
    "plt.plot(args, values[:, 1], label='N_1(t)')\n",
    "plt.legend()\n",
    "plt.show()"
   ]
  },
  {
   "cell_type": "markdown",
   "id": "26cf9519",
   "metadata": {},
   "source": [
    "Посмотрим, к какому результату мы пришли"
   ]
  },
  {
   "cell_type": "code",
   "execution_count": 7,
   "id": "b5add9e5",
   "metadata": {},
   "outputs": [
    {
     "name": "stdout",
     "output_type": "stream",
     "text": [
      "N_0(T) = 800000.0000\n",
      "N_0(T) = 20000.0000\n",
      "N_1(T) = 1952785.2818\n",
      "N_1(T) = 8620411.1994\n"
     ]
    }
   ],
   "source": [
    "print(\n",
    "    \"N_0(T) = {:10.4f}\".format(values[0, 0]), \n",
    "    \"N_0(T) = {:10.4f}\".format(values[0, 1]),\n",
    "    \"N_1(T) = {:10.4f}\".format(values[-1, 0]), \n",
    "    \"N_1(T) = {:10.4f}\".format(values[-1, 1]),\n",
    "    sep='\\n'\n",
    ")"
   ]
  }
 ],
 "metadata": {
  "kernelspec": {
   "display_name": "Python 3 (ipykernel)",
   "language": "python",
   "name": "python3"
  },
  "language_info": {
   "codemirror_mode": {
    "name": "ipython",
    "version": 3
   },
   "file_extension": ".py",
   "mimetype": "text/x-python",
   "name": "python",
   "nbconvert_exporter": "python",
   "pygments_lexer": "ipython3",
   "version": "3.7.11"
  }
 },
 "nbformat": 4,
 "nbformat_minor": 5
}
