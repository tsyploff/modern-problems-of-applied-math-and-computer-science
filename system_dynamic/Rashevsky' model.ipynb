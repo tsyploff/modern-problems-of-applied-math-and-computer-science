{
 "cells": [
  {
   "cell_type": "markdown",
   "id": "9348afd6",
   "metadata": {},
   "source": [
    "# Модель Рашевского \n",
    "\n",
    "## Описание модели\n",
    "\n",
    "В партии эсеров все $N$ участников разделились на две группы: левые ($L$) и правые ($R$). Партийные деятели активно взаимодействуют друг с другом, переманивая оппонентов на свою сторону. Пусть \n",
    "\n",
    "$$l = \\frac{L}{N}$$\n",
    "\n",
    "$$r = \\frac{R}{N}$$\n",
    "\n",
    "– доли левых и правых эсеров в партии. Пусть в момент разделения количество участников составляло $L_0$, $R_0$. Тогда динамику долей левых и правых эсеров в партии можно описать следующей системой дифференциальных уравнений:\n",
    "\n",
    "$$l'(t) = a_0 l_0 - c_0 r_0 + a l(t) - c r(t)$$\n",
    "\n",
    "$$r'(t) = c_0 r_0 - a_0 l_0 + c r(t) - a l(t)$$\n",
    "\n",
    "где $a, a_0, c, c_0 \\ge 0$.\n",
    "\n",
    "## Реализация модели\n",
    "\n",
    "Импортируем инструменты"
   ]
  },
  {
   "cell_type": "code",
   "execution_count": 1,
   "id": "8e65347a",
   "metadata": {},
   "outputs": [],
   "source": [
    "import numpy as np\n",
    "import matplotlib.pyplot as plt\n",
    "\n",
    "from dsolvemethods import CauchyProblem, RungeKutta, VectorFunction"
   ]
  },
  {
   "cell_type": "markdown",
   "id": "c8bf39b5",
   "metadata": {},
   "source": [
    "Задаём параметры модели"
   ]
  },
  {
   "cell_type": "code",
   "execution_count": 2,
   "id": "99d3dc10",
   "metadata": {},
   "outputs": [],
   "source": [
    "a = 1\n",
    "a_0 = 1\n",
    "c = 3.1\n",
    "c_0 = 3.1"
   ]
  },
  {
   "cell_type": "markdown",
   "id": "5decf57c",
   "metadata": {},
   "source": [
    "Задаём начальные параметры"
   ]
  },
  {
   "cell_type": "code",
   "execution_count": 3,
   "id": "adc7701d",
   "metadata": {},
   "outputs": [],
   "source": [
    "l_0 = 0.75\n",
    "r_0 = 0.25"
   ]
  },
  {
   "cell_type": "markdown",
   "id": "feeeb441",
   "metadata": {},
   "source": [
    "Задаём систему уравнений полагая\n",
    "\n",
    "$$y = (l, r)^T$$"
   ]
  },
  {
   "cell_type": "code",
   "execution_count": 4,
   "id": "a3611200",
   "metadata": {},
   "outputs": [],
   "source": [
    "f = VectorFunction(\n",
    "    [\n",
    "        lambda t, y: a_0*l_0 - c_0*r_0 + a*y[0] - c*y[1], \n",
    "        lambda t, y: c_0*r_0 - a_0*l_0 + c*y[1] - a*y[0],\n",
    "    ]\n",
    ")"
   ]
  },
  {
   "cell_type": "markdown",
   "id": "3b99fe03",
   "metadata": {},
   "source": [
    "Задаём задачу Коши"
   ]
  },
  {
   "cell_type": "code",
   "execution_count": 5,
   "id": "e847cd12",
   "metadata": {},
   "outputs": [],
   "source": [
    "model = CauchyProblem(f, 0.0, np.array([l_0, r_0]))"
   ]
  },
  {
   "cell_type": "markdown",
   "id": "ab6884b1",
   "metadata": {},
   "source": [
    "Инициализируем солвер и строим траектории  𝑦  для четырёх месяцев."
   ]
  },
  {
   "cell_type": "code",
   "execution_count": 6,
   "id": "71093e93",
   "metadata": {},
   "outputs": [
    {
     "data": {
      "image/png": "[encoded data removed]",
      "text/plain": [
       "<Figure size 720x432 with 1 Axes>"
      ]
     },
     "metadata": {
      "needs_background": "light"
     },
     "output_type": "display_data"
    },
    {
     "name": "stdout",
     "output_type": "stream",
     "text": [
      "Wall time: 1.45 s\n"
     ]
    }
   ],
   "source": [
    "%%time\n",
    "\n",
    "days_in_four_month = 1\n",
    "rk = RungeKutta(h=0.001)\n",
    "args, values = rk.solve(model, days_in_four_month)\n",
    "\n",
    "plt.figure(figsize=(10, 6))\n",
    "plt.plot(args, values[:, 0], label='l(t)')\n",
    "plt.plot(args, values[:, 1], label='r(t)')\n",
    "plt.legend()\n",
    "plt.show()"
   ]
  },
  {
   "cell_type": "markdown",
   "id": "26cf9519",
   "metadata": {},
   "source": [
    "Посмотрим, к какому результату мы пришли"
   ]
  },
  {
   "cell_type": "code",
   "execution_count": 7,
   "id": "b5add9e5",
   "metadata": {},
   "outputs": [
    {
     "name": "stdout",
     "output_type": "stream",
     "text": [
      "Доля левых эсеров:     0.0284\n",
      "Доля левых эсеров:     0.9716\n"
     ]
    }
   ],
   "source": [
    "print(\n",
    "    \"Доля левых эсеров: {:10.4f}\".format(values[-1, 0]), \n",
    "    \"Доля правых эсеров: {:10.4f}\".format(values[-1, 1]),\n",
    "    sep='\\n'\n",
    ")"
   ]
  }
 ],
 "metadata": {
  "kernelspec": {
   "display_name": "Python 3 (ipykernel)",
   "language": "python",
   "name": "python3"
  },
  "language_info": {
   "codemirror_mode": {
    "name": "ipython",
    "version": 3
   },
   "file_extension": ".py",
   "mimetype": "text/x-python",
   "name": "python",
   "nbconvert_exporter": "python",
   "pygments_lexer": "ipython3",
   "version": "3.7.11"
  }
 },
 "nbformat": 4,
 "nbformat_minor": 5
}
