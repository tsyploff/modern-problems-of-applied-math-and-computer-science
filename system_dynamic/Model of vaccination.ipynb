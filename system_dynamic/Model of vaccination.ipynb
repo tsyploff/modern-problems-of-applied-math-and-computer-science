{
 "cells": [
  {
   "cell_type": "markdown",
   "id": "1ee750c3",
   "metadata": {},
   "source": [
    "# Модель вакцинации\n",
    "\n",
    "## Описание модели\n",
    "\n",
    "Пусть $N$ – население закрытого города N, жители которого не размножаются и не умирают от старости. В городе бушует эпидемия covid-19. К счастью учёные города разработали надёжную вакцину от коронавирусной инфекции. Жители разделились на две половины: те, кто считает, что вакцинироваться необходимо (они вакцинируются, как только примыкают к данной группе жителей), и те, кто считает, что вакцина – это зло. Коронавирус – страшная болезнь, поэтому непривитые жители постепенно умирают от болезни. \n",
    "\n",
    "Пусть $V$ – количество привитых граждан, $D$ – количество погибших от инфекции и $M$ (от англ. moron – идиот) – covid-идиоты. Относительные показатели: \n",
    "\n",
    "$$v = \\frac{V}{N}, \\qquad v \\in [0, 1]$$\n",
    "\n",
    "$$d = \\frac{D}{N}, \\qquad d \\in [0, 1]$$\n",
    "\n",
    "$$m = \\frac{M}{N}, \\qquad m \\in [0, 1]$$\n",
    "\n",
    "Зависимости между выделенными накопителями следующие: \n",
    "1) Каждый день умирает фиксированная доля $\\alpha$ невакцинированных жителей города\n",
    "\n",
    "$$d'(t) = \\alpha \\, m(t)$$\n",
    "\n",
    "2) Количество желающих привиться увеличивается из двух источников: привитые активно призывают привиться всех остальных, новости о количестве погибших мотивируют covid-идиотов прививаться. \n",
    "\n",
    "$$v'(t) = \\beta \\, v(t) \\, m(t) + \\gamma \\, d(t) \\, m(t)$$\n",
    "\n",
    "3) Непосредственно из первых двух уравнений находим \n",
    "\n",
    "$$m'(t) = - \\alpha \\, m(t) - \\beta \\, v(t) \\, m(t) - \\gamma \\, d(t) \\, m(t)$$\n",
    "\n",
    "## Реализация модели\n",
    "\n",
    "Импортируем инструменты"
   ]
  },
  {
   "cell_type": "code",
   "execution_count": 1,
   "id": "82b76457",
   "metadata": {},
   "outputs": [],
   "source": [
    "import numpy as np\n",
    "import matplotlib.pyplot as plt\n",
    "\n",
    "from dsolvemethods import CauchyProblem, RungeKutta, VectorFunction"
   ]
  },
  {
   "cell_type": "markdown",
   "id": "64d6b709",
   "metadata": {},
   "source": [
    "Задаём параметры модели"
   ]
  },
  {
   "cell_type": "code",
   "execution_count": 2,
   "id": "4dbcba22",
   "metadata": {},
   "outputs": [],
   "source": [
    "alpha = 0.01\n",
    "beta = 0.05\n",
    "gamma = 0.03"
   ]
  },
  {
   "cell_type": "markdown",
   "id": "f4985316",
   "metadata": {},
   "source": [
    "Задаём систему уравнений полагая \n",
    "\n",
    "$$y = (v, m, d)^T$$"
   ]
  },
  {
   "cell_type": "code",
   "execution_count": 3,
   "id": "732776b8",
   "metadata": {},
   "outputs": [],
   "source": [
    "f = VectorFunction(\n",
    "    [\n",
    "        lambda t, y: beta * y[0] * y[1] + gamma * y[1] * y[2], \n",
    "        lambda t, y: - alpha * y[1] - beta * y[0] * y[1] - gamma * y[1] * y[2],\n",
    "        lambda t, y: alpha * y[1]\n",
    "    ]\n",
    ")"
   ]
  },
  {
   "cell_type": "markdown",
   "id": "787b0659",
   "metadata": {},
   "source": [
    "Задаём начальные параметры: будем считать, что изначально $M = N, V = D = 0$"
   ]
  },
  {
   "cell_type": "code",
   "execution_count": 4,
   "id": "0f28ef5d",
   "metadata": {},
   "outputs": [],
   "source": [
    "model = CauchyProblem(f, 0.0, np.array([0.0, 1.0, 0.0]))"
   ]
  },
  {
   "cell_type": "markdown",
   "id": "817702a1",
   "metadata": {},
   "source": [
    "Инициализируем солвер и строим траектории $y$ для четырёх месяцев. "
   ]
  },
  {
   "cell_type": "code",
   "execution_count": 5,
   "id": "d54ae8fd",
   "metadata": {},
   "outputs": [
    {
     "data": {
      "image/png": "[encoded data removed]",
      "text/plain": [
       "<Figure size 720x432 with 1 Axes>"
      ]
     },
     "metadata": {
      "needs_background": "light"
     },
     "output_type": "display_data"
    },
    {
     "name": "stdout",
     "output_type": "stream",
     "text": [
      "Wall time: 4.87 s\n"
     ]
    }
   ],
   "source": [
    "%%time\n",
    "\n",
    "days_in_four_month = 30 + 31 + 30 + 31\n",
    "rk = RungeKutta(h=0.001)\n",
    "args, values = rk.solve(model, days_in_four_month)\n",
    "\n",
    "plt.figure(figsize=(10, 6))\n",
    "plt.plot(args, values[:, 0], label='v(t)')\n",
    "plt.plot(args, values[:, 1], label='m(t)')\n",
    "plt.plot(args, values[:, 2], label='d(t)')\n",
    "plt.legend()\n",
    "plt.show()"
   ]
  },
  {
   "cell_type": "markdown",
   "id": "ab08d6ad",
   "metadata": {},
   "source": [
    "Посмотрим, к каким результатам мы пришли:"
   ]
  },
  {
   "cell_type": "code",
   "execution_count": 6,
   "id": "6f3274a8",
   "metadata": {},
   "outputs": [
    {
     "name": "stdout",
     "output_type": "stream",
     "text": [
      "Доля вакцинировавшихся:     0.5763\n",
      "Доля covid-идиотов:     0.0112\n",
      "Доля погибших:     0.4125\n"
     ]
    }
   ],
   "source": [
    "print(\n",
    "    \"Доля вакцинировавшихся: {:10.4f}\".format(values[-1, 0]), \n",
    "    \"Доля covid-идиотов: {:10.4f}\".format(values[-1, 1]),\n",
    "    \"Доля погибших: {:10.4f}\".format(values[-1, 2]),\n",
    "    sep='\\n'\n",
    ")"
   ]
  }
 ],
 "metadata": {
  "kernelspec": {
   "display_name": "Python 3 (ipykernel)",
   "language": "python",
   "name": "python3"
  },
  "language_info": {
   "codemirror_mode": {
    "name": "ipython",
    "version": 3
   },
   "file_extension": ".py",
   "mimetype": "text/x-python",
   "name": "python",
   "nbconvert_exporter": "python",
   "pygments_lexer": "ipython3",
   "version": "3.7.11"
  }
 },
 "nbformat": 4,
 "nbformat_minor": 5
}
