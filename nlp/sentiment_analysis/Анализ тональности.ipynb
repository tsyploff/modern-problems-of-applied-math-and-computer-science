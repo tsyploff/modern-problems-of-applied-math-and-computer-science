{
 "cells": [
  {
   "cell_type": "markdown",
   "id": "c677c80e",
   "metadata": {},
   "source": [
    "# Анализ тональности"
   ]
  },
  {
   "cell_type": "markdown",
   "id": "93cefa0d",
   "metadata": {},
   "source": [
    "Будем проводить анализ тональности текста. Вся работа будет проводиться на данных <a href=\"https://ai.stanford.edu/~amaas/data/sentiment/\">Large Movie Review Dataset v1.0</a>. Описание данных на английском языке:\n",
    "\n",
    "*This dataset contains movie reviews along with their associated binary sentiment polarity labels. It is intended to serve as a benchmark for sentiment classification.*"
   ]
  },
  {
   "cell_type": "markdown",
   "id": "4cd34cc0",
   "metadata": {},
   "source": [
    "## Базовая модель\n",
    "\n",
    "В этом параграфе будет осуществлён импорт данных и составлена первая базовая модель. "
   ]
  },
  {
   "cell_type": "code",
   "execution_count": 1,
   "id": "7fdab301",
   "metadata": {},
   "outputs": [],
   "source": [
    "import numpy as np\n",
    "import pandas as pd\n",
    "\n",
    "import matplotlib.pyplot as plt"
   ]
  },
  {
   "cell_type": "code",
   "execution_count": 2,
   "id": "7e9a7d54",
   "metadata": {},
   "outputs": [
    {
     "name": "stdout",
     "output_type": "stream",
     "text": [
      "<class 'pandas.core.frame.DataFrame'>\n",
      "Int64Index: 50000 entries, 0 to 49999\n",
      "Data columns (total 2 columns):\n",
      " #   Column  Non-Null Count  Dtype \n",
      "---  ------  --------------  ----- \n",
      " 0   text    50000 non-null  object\n",
      " 1   label   50000 non-null  object\n",
      "dtypes: object(2)\n",
      "memory usage: 1.1+ MB\n"
     ]
    },
    {
     "data": {
      "text/html": [
       "<div>\n",
       "<style scoped>\n",
       "    .dataframe tbody tr th:only-of-type {\n",
       "        vertical-align: middle;\n",
       "    }\n",
       "\n",
       "    .dataframe tbody tr th {\n",
       "        vertical-align: top;\n",
       "    }\n",
       "\n",
       "    .dataframe thead th {\n",
       "        text-align: right;\n",
       "    }\n",
       "</style>\n",
       "<table border=\"1\" class=\"dataframe\">\n",
       "  <thead>\n",
       "    <tr style=\"text-align: right;\">\n",
       "      <th></th>\n",
       "      <th>text</th>\n",
       "      <th>label</th>\n",
       "    </tr>\n",
       "  </thead>\n",
       "  <tbody>\n",
       "    <tr>\n",
       "      <th>0</th>\n",
       "      <td>Bromwell High is a cartoon comedy. It ran at t...</td>\n",
       "      <td>positive</td>\n",
       "    </tr>\n",
       "    <tr>\n",
       "      <th>1</th>\n",
       "      <td>Homelessness (or Houselessness as George Carli...</td>\n",
       "      <td>positive</td>\n",
       "    </tr>\n",
       "    <tr>\n",
       "      <th>2</th>\n",
       "      <td>Brilliant over-acting by Lesley Ann Warren. Be...</td>\n",
       "      <td>positive</td>\n",
       "    </tr>\n",
       "    <tr>\n",
       "      <th>3</th>\n",
       "      <td>This is easily the most underrated film inn th...</td>\n",
       "      <td>positive</td>\n",
       "    </tr>\n",
       "    <tr>\n",
       "      <th>4</th>\n",
       "      <td>This is not the typical Mel Brooks film. It wa...</td>\n",
       "      <td>positive</td>\n",
       "    </tr>\n",
       "  </tbody>\n",
       "</table>\n",
       "</div>"
      ],
      "text/plain": [
       "                                                text     label\n",
       "0  Bromwell High is a cartoon comedy. It ran at t...  positive\n",
       "1  Homelessness (or Houselessness as George Carli...  positive\n",
       "2  Brilliant over-acting by Lesley Ann Warren. Be...  positive\n",
       "3  This is easily the most underrated film inn th...  positive\n",
       "4  This is not the typical Mel Brooks film. It wa...  positive"
      ]
     },
     "execution_count": 2,
     "metadata": {},
     "output_type": "execute_result"
    }
   ],
   "source": [
    "data = pd.read_parquet(\"large_movie_review_dataset.parquet\")\n",
    "data.info()\n",
    "data.head()"
   ]
  },
  {
   "cell_type": "code",
   "execution_count": 3,
   "id": "b266231e",
   "metadata": {},
   "outputs": [
    {
     "data": {
      "image/png": "[encoded data removed]",
      "text/plain": [
       "<Figure size 720x432 with 1 Axes>"
      ]
     },
     "metadata": {
      "needs_background": "light"
     },
     "output_type": "display_data"
    }
   ],
   "source": [
    "data[\"label\"].hist(figsize=(10, 6))\n",
    "plt.show()"
   ]
  },
  {
   "cell_type": "markdown",
   "id": "5bfdded0",
   "metadata": {},
   "source": [
    "Количество позитивных и негативных отзывов одинаковое. Общее количество объектов: $50\\,000$. Задача: научиться определять тональность отзыва на имеющихся данных. "
   ]
  },
  {
   "cell_type": "markdown",
   "id": "5a600c0f",
   "metadata": {},
   "source": [
    "Структура базовой модели: составляем словарь из всех слов в наборе данных. Допустим, таких слов $n$. Каждом слову сопоставляем вектор размерности $n$, в котором будет стоять единица на позиции, соответствующей позиции этого слова в словаре, и нули на всех остальных позициях. Каждому документу сопоставляем сумму векторного представления его слов. Получившиеся представления стандартизируем и строим модель логистической регрессии."
   ]
  },
  {
   "cell_type": "markdown",
   "id": "c6ff1943",
   "metadata": {},
   "source": [
    "Разбиваем выборку на обучающую и тестовую"
   ]
  },
  {
   "cell_type": "code",
   "execution_count": 4,
   "id": "c5df9165",
   "metadata": {},
   "outputs": [],
   "source": [
    "from sklearn.model_selection import train_test_split"
   ]
  },
  {
   "cell_type": "code",
   "execution_count": 5,
   "id": "94ca0a92",
   "metadata": {},
   "outputs": [],
   "source": [
    "corpus = data[\"text\"].apply(lambda t: t.lower()).values\n",
    "y = data[\"label\"].map({\"negative\": 0, \"positive\": 1}).values"
   ]
  },
  {
   "cell_type": "code",
   "execution_count": 6,
   "id": "2be417ff",
   "metadata": {},
   "outputs": [],
   "source": [
    "corpus_train, corpus_test, y_train, y_test = train_test_split(corpus, y, test_size=0.25, random_state=42)"
   ]
  },
  {
   "cell_type": "markdown",
   "id": "41be6bbe",
   "metadata": {},
   "source": [
    "Посмотрим на количество положительных и отрицательных отзывов в обучающей выборке"
   ]
  },
  {
   "cell_type": "code",
   "execution_count": 7,
   "id": "6e9b61e0",
   "metadata": {},
   "outputs": [
    {
     "data": {
      "image/png": "[encoded data removed]",
      "text/plain": [
       "<Figure size 720x432 with 1 Axes>"
      ]
     },
     "metadata": {
      "needs_background": "light"
     },
     "output_type": "display_data"
    }
   ],
   "source": [
    "plt.figure(figsize=(10, 6))\n",
    "plt.hist(y_train)\n",
    "plt.show()"
   ]
  },
  {
   "cell_type": "markdown",
   "id": "95f8467b",
   "metadata": {},
   "source": [
    "Получилось примерно одинаково. Обучаем модель"
   ]
  },
  {
   "cell_type": "code",
   "execution_count": 8,
   "id": "77b8d44d",
   "metadata": {},
   "outputs": [],
   "source": [
    "from sklearn.feature_extraction.text import CountVectorizer\n",
    "from sklearn.linear_model import LogisticRegression\n",
    "from sklearn.metrics import accuracy_score\n",
    "from sklearn.pipeline import Pipeline\n",
    "from sklearn.preprocessing import StandardScaler"
   ]
  },
  {
   "cell_type": "code",
   "execution_count": 9,
   "id": "096b5c93",
   "metadata": {},
   "outputs": [],
   "source": [
    "model = Pipeline(\n",
    "    [\n",
    "        (\"word_vectorizer\", CountVectorizer()),\n",
    "        (\"scaler\", StandardScaler(with_mean=False)),\n",
    "        (\"regression\", LogisticRegression(solver=\"liblinear\"))\n",
    "    ]\n",
    ")"
   ]
  },
  {
   "cell_type": "code",
   "execution_count": 10,
   "id": "2d370068",
   "metadata": {},
   "outputs": [
    {
     "name": "stdout",
     "output_type": "stream",
     "text": [
      "Wall time: 14.6 s\n"
     ]
    },
    {
     "data": {
      "text/plain": [
       "Pipeline(steps=[('word_vectorizer', CountVectorizer()),\n",
       "                ('scaler', StandardScaler(with_mean=False)),\n",
       "                ('regression', LogisticRegression(solver='liblinear'))])"
      ]
     },
     "execution_count": 10,
     "metadata": {},
     "output_type": "execute_result"
    }
   ],
   "source": [
    "%%time\n",
    "\n",
    "model.fit(corpus_train, y_train)"
   ]
  },
  {
   "cell_type": "markdown",
   "id": "e725bb24",
   "metadata": {},
   "source": [
    "Проверяем точность модели"
   ]
  },
  {
   "cell_type": "code",
   "execution_count": 11,
   "id": "cebcbec1",
   "metadata": {
    "scrolled": true
   },
   "outputs": [],
   "source": [
    "y_pred = model.predict(corpus_test)"
   ]
  },
  {
   "cell_type": "code",
   "execution_count": 12,
   "id": "c0f007ea",
   "metadata": {},
   "outputs": [
    {
     "data": {
      "text/plain": [
       "0.85688"
      ]
     },
     "execution_count": 12,
     "metadata": {},
     "output_type": "execute_result"
    }
   ],
   "source": [
    "accuracy_score(y_test, y_pred)"
   ]
  },
  {
   "cell_type": "markdown",
   "id": "64402670",
   "metadata": {},
   "source": [
    "## TF-IDF \n",
    "\n",
    "Следующий шаг состоит в том, чтобы использовать `TF-IDF` для приведения текстовой информации к числовой. Мы так же попробуем отбросить стоп-слова. Попробуем несколько различных алгоритмов для финальной версии: логистическую регрессию, случайный лес, градиентный бустинг"
   ]
  },
  {
   "cell_type": "code",
   "execution_count": 13,
   "id": "d7dd40bb",
   "metadata": {},
   "outputs": [],
   "source": [
    "from sklearn.ensemble import RandomForestClassifier\n",
    "from sklearn.feature_extraction.text import TfidfVectorizer\n",
    "\n",
    "from xgboost import XGBClassifier"
   ]
  },
  {
   "cell_type": "markdown",
   "id": "b932093b",
   "metadata": {},
   "source": [
    "Вариант с логистической регрессией по `TF-IDF`"
   ]
  },
  {
   "cell_type": "code",
   "execution_count": 14,
   "id": "e9d856de",
   "metadata": {},
   "outputs": [
    {
     "name": "stdout",
     "output_type": "stream",
     "text": [
      "Wall time: 9.78 s\n"
     ]
    },
    {
     "data": {
      "text/plain": [
       "Pipeline(steps=[('word_vectorizer', TfidfVectorizer(stop_words='english')),\n",
       "                ('scaler', StandardScaler(with_mean=False)),\n",
       "                ('regression', LogisticRegression(solver='liblinear'))])"
      ]
     },
     "execution_count": 14,
     "metadata": {},
     "output_type": "execute_result"
    }
   ],
   "source": [
    "%%time\n",
    "\n",
    "model_tfidf_logreg = Pipeline(\n",
    "    [\n",
    "        (\"word_vectorizer\", TfidfVectorizer(stop_words=\"english\")),\n",
    "        (\"scaler\", StandardScaler(with_mean=False)),\n",
    "        (\"regression\", LogisticRegression(solver=\"liblinear\"))\n",
    "    ]\n",
    ")\n",
    "\n",
    "model_tfidf_logreg.fit(corpus_train, y_train)"
   ]
  },
  {
   "cell_type": "code",
   "execution_count": 15,
   "id": "256e1f55",
   "metadata": {},
   "outputs": [
    {
     "data": {
      "text/plain": [
       "0.85504"
      ]
     },
     "execution_count": 15,
     "metadata": {},
     "output_type": "execute_result"
    }
   ],
   "source": [
    "y_pred = model_tfidf_logreg.predict(corpus_test)\n",
    "accuracy_score(y_test, y_pred)"
   ]
  },
  {
   "cell_type": "markdown",
   "id": "0b952b0b",
   "metadata": {},
   "source": [
    "Результат близок к предыдущему. Теперь попробуем случайный лес"
   ]
  },
  {
   "cell_type": "code",
   "execution_count": 16,
   "id": "3afa61e5",
   "metadata": {},
   "outputs": [
    {
     "name": "stdout",
     "output_type": "stream",
     "text": [
      "Wall time: 8.45 s\n"
     ]
    },
    {
     "data": {
      "text/plain": [
       "Pipeline(steps=[('word_vectorizer', TfidfVectorizer(stop_words='english')),\n",
       "                ('scaler', StandardScaler(with_mean=False)),\n",
       "                ('random_forest',\n",
       "                 RandomForestClassifier(max_depth=17, max_features='log2',\n",
       "                                        n_estimators=192, random_state=45))])"
      ]
     },
     "execution_count": 16,
     "metadata": {},
     "output_type": "execute_result"
    }
   ],
   "source": [
    "%%time\n",
    "\n",
    "model_tfidf_rf = Pipeline(\n",
    "    [\n",
    "        (\"word_vectorizer\", TfidfVectorizer(stop_words=\"english\")),\n",
    "        (\"scaler\", StandardScaler(with_mean=False)),\n",
    "        (\"random_forest\", RandomForestClassifier(n_estimators=192, max_depth=17, max_features=\"log2\", random_state=45))\n",
    "    ]\n",
    ")\n",
    "\n",
    "\n",
    "model_tfidf_rf.fit(corpus_train, y_train)"
   ]
  },
  {
   "cell_type": "code",
   "execution_count": 17,
   "id": "1141d34f",
   "metadata": {},
   "outputs": [
    {
     "data": {
      "text/plain": [
       "0.80392"
      ]
     },
     "execution_count": 17,
     "metadata": {},
     "output_type": "execute_result"
    }
   ],
   "source": [
    "y_pred = model_tfidf_rf.predict(corpus_test)\n",
    "accuracy_score(y_test, y_pred)"
   ]
  },
  {
   "cell_type": "markdown",
   "id": "239e584b",
   "metadata": {},
   "source": [
    "Результат хуже, чем у логистической регрессии. Перейдём к `xgboost`"
   ]
  },
  {
   "cell_type": "code",
   "execution_count": 18,
   "id": "0db50c85",
   "metadata": {},
   "outputs": [
    {
     "name": "stdout",
     "output_type": "stream",
     "text": [
      "Wall time: 1min 33s\n"
     ]
    },
    {
     "data": {
      "text/plain": [
       "Pipeline(steps=[('word_vectorizer', TfidfVectorizer(stop_words='english')),\n",
       "                ('scaler', StandardScaler(with_mean=False)),\n",
       "                ('random_forest',\n",
       "                 XGBClassifier(base_score=0.5, booster='gbtree',\n",
       "                               colsample_bylevel=1, colsample_bynode=1,\n",
       "                               colsample_bytree=1, enable_categorical=False,\n",
       "                               eval_metric='logloss', gamma=0, gpu_id=-1,\n",
       "                               importance_type=None, interaction_constraints='',\n",
       "                               learning_rate=0.5, max_delta_step=0,\n",
       "                               max_depth=25, min_child_weight=1, missing=nan,\n",
       "                               monotone_constraints='()', n_estimators=75,\n",
       "                               n_jobs=8, num_parallel_tree=1, predictor='auto',\n",
       "                               random_state=45, reg_alpha=0, reg_lambda=1,\n",
       "                               scale_pos_weight=1, subsample=1,\n",
       "                               tree_method='exact', use_label_encoder=False,\n",
       "                               validate_parameters=1, verbosity=0))])"
      ]
     },
     "execution_count": 18,
     "metadata": {},
     "output_type": "execute_result"
    }
   ],
   "source": [
    "%%time\n",
    "\n",
    "model_tfidf_xgboost = Pipeline(\n",
    "    [\n",
    "        (\"word_vectorizer\", TfidfVectorizer(stop_words=\"english\")),\n",
    "        (\"scaler\", StandardScaler(with_mean=False)),\n",
    "        (\"random_forest\", XGBClassifier(\n",
    "            use_label_encoder=False, \n",
    "            n_estimators=75, \n",
    "            max_depth=25, \n",
    "            eval_metric=\"logloss\", \n",
    "            random_state=45,\n",
    "            learning_rate=0.5,\n",
    "            verbosity=0\n",
    "        ))\n",
    "    ]\n",
    ")\n",
    "\n",
    "\n",
    "model_tfidf_xgboost.fit(corpus_train, y_train)"
   ]
  },
  {
   "cell_type": "code",
   "execution_count": 19,
   "id": "2db72432",
   "metadata": {},
   "outputs": [
    {
     "data": {
      "text/plain": [
       "0.85608"
      ]
     },
     "execution_count": 19,
     "metadata": {},
     "output_type": "execute_result"
    }
   ],
   "source": [
    "y_pred = model_tfidf_xgboost.predict(corpus_test)\n",
    "accuracy_score(y_test, y_pred)"
   ]
  },
  {
   "cell_type": "markdown",
   "id": "04e01326",
   "metadata": {},
   "source": [
    "Результат лучше, чем у случайного леса, но не лучше, чем у логистической регрессии. То есть, переход к `TF-IDF` ничего не дал. Перейдём к нейросетевым подходам"
   ]
  },
  {
   "cell_type": "markdown",
   "id": "8c2fd61e",
   "metadata": {},
   "source": [
    "## Полносвязная нейросеть\n",
    "\n",
    "Ещё один вариант: взять полносвязную нейросеть с несколькими нейронами и обучить её по выходу `CountVectorizer`. "
   ]
  },
  {
   "cell_type": "code",
   "execution_count": 20,
   "id": "f23c6431",
   "metadata": {},
   "outputs": [],
   "source": [
    "import tensorflow as tf\n",
    "\n",
    "from tensorflow.keras import Sequential\n",
    "from tensorflow.keras.layers import Dense"
   ]
  },
  {
   "cell_type": "code",
   "execution_count": 21,
   "id": "43ec457c",
   "metadata": {},
   "outputs": [],
   "source": [
    "model_simple_nn = Sequential(name=\"model_simple_nn\")\n",
    "model_simple_nn.add(Dense(100, activation=\"sigmoid\", name=\"first_layer\"))\n",
    "model_simple_nn.add(Dense(1, activation=\"sigmoid\", name=\"output_layer\"))\n",
    "model_simple_nn.compile(optimizer=\"adam\", loss=\"binary_crossentropy\", metrics=[\"accuracy\"])"
   ]
  },
  {
   "cell_type": "code",
   "execution_count": 22,
   "id": "7b99f05d",
   "metadata": {},
   "outputs": [
    {
     "data": {
      "text/plain": [
       "(37500, 90321)"
      ]
     },
     "execution_count": 22,
     "metadata": {},
     "output_type": "execute_result"
    }
   ],
   "source": [
    "vectorizer = CountVectorizer()\n",
    "X_train = vectorizer.fit_transform(corpus_train)\n",
    "X_train.sort_indices()\n",
    "X_train.shape"
   ]
  },
  {
   "cell_type": "code",
   "execution_count": 23,
   "id": "10959455",
   "metadata": {},
   "outputs": [
    {
     "name": "stdout",
     "output_type": "stream",
     "text": [
      "Epoch 1/2\n",
      "1172/1172 [==============================] - 51s 43ms/step - loss: 0.3032 - accuracy: 0.8784\n",
      "Epoch 2/2\n",
      "1172/1172 [==============================] - 51s 43ms/step - loss: 0.1380 - accuracy: 0.9508\n"
     ]
    },
    {
     "data": {
      "text/plain": [
       "<tensorflow.python.keras.callbacks.History at 0x198a89de188>"
      ]
     },
     "execution_count": 23,
     "metadata": {},
     "output_type": "execute_result"
    }
   ],
   "source": [
    "model_simple_nn.fit(X_train, y_train.reshape(-1, 1), epochs=2)"
   ]
  },
  {
   "cell_type": "markdown",
   "id": "df8d7b0d",
   "metadata": {},
   "source": [
    "Смотрим качество"
   ]
  },
  {
   "cell_type": "code",
   "execution_count": 24,
   "id": "315d20e5",
   "metadata": {},
   "outputs": [
    {
     "data": {
      "text/plain": [
       "(12500, 90321)"
      ]
     },
     "execution_count": 24,
     "metadata": {},
     "output_type": "execute_result"
    }
   ],
   "source": [
    "X_test = vectorizer.transform(corpus_test)\n",
    "X_test.sort_indices()\n",
    "X_test.shape"
   ]
  },
  {
   "cell_type": "code",
   "execution_count": 25,
   "id": "7039f277",
   "metadata": {},
   "outputs": [
    {
     "data": {
      "text/plain": [
       "0.89952"
      ]
     },
     "execution_count": 25,
     "metadata": {},
     "output_type": "execute_result"
    }
   ],
   "source": [
    "y_pred = model_simple_nn.predict(X_test)\n",
    "accuracy_score(y_test, np.array(y_pred.flatten() > 0.5, dtype=np.int16))"
   ]
  },
  {
   "cell_type": "markdown",
   "id": "fb28d506",
   "metadata": {},
   "source": [
    "Использование нейросетей позволило поднять качество до 90%"
   ]
  }
 ],
 "metadata": {
  "kernelspec": {
   "display_name": "Python 3 (ipykernel)",
   "language": "python",
   "name": "python3"
  },
  "language_info": {
   "codemirror_mode": {
    "name": "ipython",
    "version": 3
   },
   "file_extension": ".py",
   "mimetype": "text/x-python",
   "name": "python",
   "nbconvert_exporter": "python",
   "pygments_lexer": "ipython3",
   "version": "3.7.11"
  }
 },
 "nbformat": 4,
 "nbformat_minor": 5
}
