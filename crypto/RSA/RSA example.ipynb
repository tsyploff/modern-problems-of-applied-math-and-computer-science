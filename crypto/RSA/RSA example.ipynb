{
 "cells": [
  {
   "cell_type": "markdown",
   "id": "b39efe72",
   "metadata": {},
   "source": [
    "# RSA\n",
    "\n",
    "Импортируем необходимые модули"
   ]
  },
  {
   "cell_type": "code",
   "execution_count": 1,
   "id": "5076153d",
   "metadata": {},
   "outputs": [],
   "source": [
    "from math import log2\n",
    "from random import randint, seed\n",
    "\n",
    "from src import RSA"
   ]
  },
  {
   "cell_type": "markdown",
   "id": "fb34cbe3",
   "metadata": {},
   "source": [
    "Генерируем простые числа $p, q$ порядка примерно $2^{128}$, тогда $n = p \\times q$ будет порядка примерно $256$. "
   ]
  },
  {
   "cell_type": "code",
   "execution_count": 2,
   "id": "4610bb3b",
   "metadata": {},
   "outputs": [
    {
     "name": "stdout",
     "output_type": "stream",
     "text": [
      "p = 170141183460469231731687303715884105727\n",
      "q = 162259276829213363391578010288127\n"
     ]
    }
   ],
   "source": [
    "seed(4)\n",
    "p = RSA.random_prime(n=128, k=3)  # случайное число Мерсенна порядка 2^128\n",
    "q = RSA.random_prime(n=128, k=3)  # случайное число Мерсенна порядка 2^128\n",
    "print(f\"p = {p}\\nq = {q}\")"
   ]
  },
  {
   "cell_type": "markdown",
   "id": "8d5d44b8",
   "metadata": {},
   "source": [
    "Создаём экземпляр класса `RSA`, автоматически рассчитываются $n$ и $\\phi(n)$."
   ]
  },
  {
   "cell_type": "code",
   "execution_count": 3,
   "id": "8fa7186f",
   "metadata": {},
   "outputs": [
    {
     "name": "stdout",
     "output_type": "stream",
     "text": [
      "n = 27606985387162255149739023449107931668458716142620601169954803000803329\n",
      "log2(n) = 234.0\n",
      "phi = 27606985387162255149739023449107761527112996396559656119259509106409476\n"
     ]
    }
   ],
   "source": [
    "rsa = RSA(p, q)\n",
    "print(f\"n = {rsa.n}\\nlog2(n) = {log2(rsa.n)}\\nphi = {rsa.phi}\")"
   ]
  },
  {
   "cell_type": "markdown",
   "id": "a8392e6f",
   "metadata": {},
   "source": [
    "Генерируем пару открытый/закрытый ключ. "
   ]
  },
  {
   "cell_type": "code",
   "execution_count": 4,
   "id": "b74ff2f9",
   "metadata": {},
   "outputs": [
    {
     "name": "stdout",
     "output_type": "stream",
     "text": [
      "e = 21521496789705958901359069874387547792800589484950364407341563588489819\n",
      "d = 10237343657313625822116100002838849737635340544485481777046069319502435\n"
     ]
    }
   ],
   "source": [
    "seed(4)\n",
    "e, d = rsa.generate_asymmetric_key_pair()\n",
    "print(f\"e = {e}\\nd = {d}\")"
   ]
  },
  {
   "cell_type": "markdown",
   "id": "bbe037ef",
   "metadata": {},
   "source": [
    "Убедимся, что они удовлетворяют условию\n",
    "\n",
    "$$e \\times d = 1 \\,\\, mod \\,\\, \\phi(n)$$"
   ]
  },
  {
   "cell_type": "code",
   "execution_count": 5,
   "id": "f56bd385",
   "metadata": {},
   "outputs": [
    {
     "data": {
      "text/plain": [
       "1"
      ]
     },
     "execution_count": 5,
     "metadata": {},
     "output_type": "execute_result"
    }
   ],
   "source": [
    "e*d % rsa.phi"
   ]
  },
  {
   "cell_type": "markdown",
   "id": "6527d0c5",
   "metadata": {},
   "source": [
    "Пусть два агента – Алёна и Боря – общаются по незащищённому каналу. У обоих есть класс `RSA`. Алёна генерирует у себя пару из открытого/закрытого ключа и отсылает Боре пару $(e, n)$. Боря берёт сообщение $M$ и шифрует его по открытому ключу. "
   ]
  },
  {
   "cell_type": "code",
   "execution_count": 6,
   "id": "a6027060",
   "metadata": {},
   "outputs": [
    {
     "name": "stdout",
     "output_type": "stream",
     "text": [
      "Сообщение: 2484493137681691493189078164193081860976508936111923779101325785933271\n",
      "Зашифрованное сообщение: 17607304880872306892768199591676187510449104325043343307268601465002100\n"
     ]
    }
   ],
   "source": [
    "seed(4)\n",
    "message = randint(2**128, rsa.n)\n",
    "encrypted_message = rsa.encrypt(message, e)\n",
    "print(f\"Сообщение: {message}\\nЗашифрованное сообщение: {encrypted_message}\")"
   ]
  },
  {
   "cell_type": "markdown",
   "id": "df963c8f",
   "metadata": {},
   "source": [
    "Алёна получает зашифрованное сообщение и расшифровывает его закрытым ключом. "
   ]
  },
  {
   "cell_type": "code",
   "execution_count": 7,
   "id": "f8be2858",
   "metadata": {},
   "outputs": [
    {
     "data": {
      "text/plain": [
       "True"
      ]
     },
     "execution_count": 7,
     "metadata": {},
     "output_type": "execute_result"
    }
   ],
   "source": [
    "rsa.encrypt(encrypted_message, d) == message"
   ]
  },
  {
   "cell_type": "markdown",
   "id": "53e14aa9",
   "metadata": {},
   "source": [
    "Вот и сказочке конец, а кто слушал – тот учится на ПМ. "
   ]
  }
 ],
 "metadata": {
  "kernelspec": {
   "display_name": "Python 3 (ipykernel)",
   "language": "python",
   "name": "python3"
  },
  "language_info": {
   "codemirror_mode": {
    "name": "ipython",
    "version": 3
   },
   "file_extension": ".py",
   "mimetype": "text/x-python",
   "name": "python",
   "nbconvert_exporter": "python",
   "pygments_lexer": "ipython3",
   "version": "3.7.11"
  }
 },
 "nbformat": 4,
 "nbformat_minor": 5
}
