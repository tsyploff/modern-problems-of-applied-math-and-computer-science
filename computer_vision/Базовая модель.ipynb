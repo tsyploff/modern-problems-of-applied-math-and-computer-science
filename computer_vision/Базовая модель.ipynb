{
 "cells": [
  {
   "cell_type": "markdown",
   "id": "db8375bd",
   "metadata": {},
   "source": [
    "# Базовая модель\n",
    "\n",
    "Как было отмечено ранее, базовые модели включают в себя построение классических методов машинного обучения по квартилям цветов в изображениях: логистическую регрессию, `xgboost`, $K$ ближайших соседей. \n",
    "\n",
    "Импортируем инструменты"
   ]
  },
  {
   "cell_type": "code",
   "execution_count": 1,
   "id": "6706879d",
   "metadata": {},
   "outputs": [],
   "source": [
    "import numpy as np\n",
    "import pandas as pd\n",
    "\n",
    "import matplotlib.pyplot as plt\n",
    "\n",
    "from sklearn.linear_model import LogisticRegression\n",
    "from sklearn.neighbors import KNeighborsClassifier\n",
    "from sklearn.metrics import accuracy_score\n",
    "from sklearn.model_selection import train_test_split, GridSearchCV, KFold\n",
    "from sklearn.svm import LinearSVC, SVC"
   ]
  },
  {
   "cell_type": "markdown",
   "id": "dca76f99",
   "metadata": {},
   "source": [
    "Импортируем данные"
   ]
  },
  {
   "cell_type": "code",
   "execution_count": 2,
   "id": "fb0b962c",
   "metadata": {},
   "outputs": [
    {
     "name": "stdout",
     "output_type": "stream",
     "text": [
      "<class 'pandas.core.frame.DataFrame'>\n",
      "RangeIndex: 55322 entries, 0 to 55321\n",
      "Data columns (total 10 columns):\n",
      " #   Column                 Non-Null Count  Dtype  \n",
      "---  ------                 --------------  -----  \n",
      " 0   red_upper_quartiles    55322 non-null  float64\n",
      " 1   red_median             55322 non-null  float64\n",
      " 2   red_lower_quartiles    55322 non-null  float64\n",
      " 3   green_upper_quartiles  55322 non-null  float64\n",
      " 4   green_median           55322 non-null  float64\n",
      " 5   green_lower_quartiles  55322 non-null  float64\n",
      " 6   blue_upper_quartiles   55322 non-null  float64\n",
      " 7   blue_median            55322 non-null  float64\n",
      " 8   blue_lower_quartiles   55322 non-null  float64\n",
      " 9   target                 55322 non-null  float64\n",
      "dtypes: float64(10)\n",
      "memory usage: 4.2 MB\n"
     ]
    },
    {
     "data": {
      "text/html": [
       "<div>\n",
       "<style scoped>\n",
       "    .dataframe tbody tr th:only-of-type {\n",
       "        vertical-align: middle;\n",
       "    }\n",
       "\n",
       "    .dataframe tbody tr th {\n",
       "        vertical-align: top;\n",
       "    }\n",
       "\n",
       "    .dataframe thead th {\n",
       "        text-align: right;\n",
       "    }\n",
       "</style>\n",
       "<table border=\"1\" class=\"dataframe\">\n",
       "  <thead>\n",
       "    <tr style=\"text-align: right;\">\n",
       "      <th></th>\n",
       "      <th>red_upper_quartiles</th>\n",
       "      <th>red_median</th>\n",
       "      <th>red_lower_quartiles</th>\n",
       "      <th>green_upper_quartiles</th>\n",
       "      <th>green_median</th>\n",
       "      <th>green_lower_quartiles</th>\n",
       "      <th>blue_upper_quartiles</th>\n",
       "      <th>blue_median</th>\n",
       "      <th>blue_lower_quartiles</th>\n",
       "      <th>target</th>\n",
       "    </tr>\n",
       "  </thead>\n",
       "  <tbody>\n",
       "    <tr>\n",
       "      <th>0</th>\n",
       "      <td>0.195892</td>\n",
       "      <td>0.166290</td>\n",
       "      <td>0.152954</td>\n",
       "      <td>0.379395</td>\n",
       "      <td>0.333496</td>\n",
       "      <td>0.317017</td>\n",
       "      <td>0.617920</td>\n",
       "      <td>0.583008</td>\n",
       "      <td>0.556274</td>\n",
       "      <td>1.0</td>\n",
       "    </tr>\n",
       "    <tr>\n",
       "      <th>1</th>\n",
       "      <td>0.741699</td>\n",
       "      <td>0.657227</td>\n",
       "      <td>0.434692</td>\n",
       "      <td>0.803223</td>\n",
       "      <td>0.729492</td>\n",
       "      <td>0.527344</td>\n",
       "      <td>0.847290</td>\n",
       "      <td>0.774902</td>\n",
       "      <td>0.595215</td>\n",
       "      <td>1.0</td>\n",
       "    </tr>\n",
       "    <tr>\n",
       "      <th>2</th>\n",
       "      <td>0.686035</td>\n",
       "      <td>0.567139</td>\n",
       "      <td>0.567749</td>\n",
       "      <td>0.832275</td>\n",
       "      <td>0.811523</td>\n",
       "      <td>0.804443</td>\n",
       "      <td>0.890137</td>\n",
       "      <td>0.874512</td>\n",
       "      <td>0.867798</td>\n",
       "      <td>1.0</td>\n",
       "    </tr>\n",
       "    <tr>\n",
       "      <th>3</th>\n",
       "      <td>0.466248</td>\n",
       "      <td>0.420166</td>\n",
       "      <td>0.320251</td>\n",
       "      <td>0.561768</td>\n",
       "      <td>0.504395</td>\n",
       "      <td>0.410400</td>\n",
       "      <td>0.640625</td>\n",
       "      <td>0.565063</td>\n",
       "      <td>0.477539</td>\n",
       "      <td>1.0</td>\n",
       "    </tr>\n",
       "    <tr>\n",
       "      <th>4</th>\n",
       "      <td>0.654297</td>\n",
       "      <td>0.659912</td>\n",
       "      <td>0.615234</td>\n",
       "      <td>0.757324</td>\n",
       "      <td>0.750000</td>\n",
       "      <td>0.696289</td>\n",
       "      <td>0.810547</td>\n",
       "      <td>0.802734</td>\n",
       "      <td>0.752930</td>\n",
       "      <td>1.0</td>\n",
       "    </tr>\n",
       "  </tbody>\n",
       "</table>\n",
       "</div>"
      ],
      "text/plain": [
       "   red_upper_quartiles  red_median  red_lower_quartiles  \\\n",
       "0             0.195892    0.166290             0.152954   \n",
       "1             0.741699    0.657227             0.434692   \n",
       "2             0.686035    0.567139             0.567749   \n",
       "3             0.466248    0.420166             0.320251   \n",
       "4             0.654297    0.659912             0.615234   \n",
       "\n",
       "   green_upper_quartiles  green_median  green_lower_quartiles  \\\n",
       "0               0.379395      0.333496               0.317017   \n",
       "1               0.803223      0.729492               0.527344   \n",
       "2               0.832275      0.811523               0.804443   \n",
       "3               0.561768      0.504395               0.410400   \n",
       "4               0.757324      0.750000               0.696289   \n",
       "\n",
       "   blue_upper_quartiles  blue_median  blue_lower_quartiles  target  \n",
       "0              0.617920     0.583008              0.556274     1.0  \n",
       "1              0.847290     0.774902              0.595215     1.0  \n",
       "2              0.890137     0.874512              0.867798     1.0  \n",
       "3              0.640625     0.565063              0.477539     1.0  \n",
       "4              0.810547     0.802734              0.752930     1.0  "
      ]
     },
     "execution_count": 2,
     "metadata": {},
     "output_type": "execute_result"
    }
   ],
   "source": [
    "images_quartiles = pd.read_parquet(\"images_quartiles.parquet\")\n",
    "images_quartiles.info()\n",
    "images_quartiles.head()"
   ]
  },
  {
   "cell_type": "markdown",
   "id": "f9a9a1ed",
   "metadata": {},
   "source": [
    "Смотрим на количество объектов каждого класса в выборке"
   ]
  },
  {
   "cell_type": "code",
   "execution_count": 3,
   "id": "15918204",
   "metadata": {},
   "outputs": [
    {
     "data": {
      "image/png": "[encoded data removed]",
      "text/plain": [
       "<Figure size 720x432 with 1 Axes>"
      ]
     },
     "metadata": {
      "needs_background": "light"
     },
     "output_type": "display_data"
    }
   ],
   "source": [
    "images_quartiles[\"target\"].hist(figsize=(10, 6))\n",
    "plt.xticks([0, 1], labels=[\"outdoor\", \"indoor\"])\n",
    "plt.grid(axis=\"x\")\n",
    "plt.title(\"Распределение целевой переменной\")\n",
    "plt.show()"
   ]
  },
  {
   "cell_type": "markdown",
   "id": "9267e9d8",
   "metadata": {},
   "source": [
    "Количество строк каждого класса примерно одинаковое, можно считать выборку сбалансированной. Составляем матрицу объекты-признаки и вектор целевой переменный "
   ]
  },
  {
   "cell_type": "code",
   "execution_count": 4,
   "id": "f24800e6",
   "metadata": {},
   "outputs": [],
   "source": [
    "X = images_quartiles.drop(columns=[\"target\"]).values\n",
    "y = images_quartiles[\"target\"].values"
   ]
  },
  {
   "cell_type": "code",
   "execution_count": 5,
   "id": "7bc26f9a",
   "metadata": {},
   "outputs": [],
   "source": [
    "X_train, X_test, y_train, y_test = train_test_split(X, y, test_size=0.33, random_state=42)"
   ]
  },
  {
   "cell_type": "markdown",
   "id": "c60f1b3d",
   "metadata": {},
   "source": [
    "Проверим распределение целевой переменной в обучающей выборке"
   ]
  },
  {
   "cell_type": "code",
   "execution_count": 6,
   "id": "ba0b88cf",
   "metadata": {},
   "outputs": [
    {
     "data": {
      "image/png": "[encoded data removed]",
      "text/plain": [
       "<Figure size 720x432 with 1 Axes>"
      ]
     },
     "metadata": {
      "needs_background": "light"
     },
     "output_type": "display_data"
    }
   ],
   "source": [
    "plt.figure(figsize=(10, 6))\n",
    "plt.hist(y_train)\n",
    "plt.xticks([0, 1], labels=[\"outdoor\", \"indoor\"])\n",
    "plt.grid(axis=\"y\")\n",
    "plt.title(\"Распределение целевой переменной в обучающей выборке\")\n",
    "plt.show()"
   ]
  },
  {
   "cell_type": "markdown",
   "id": "7c385ab5",
   "metadata": {},
   "source": [
    "Выборка сбалансирована, переходим к составлению модели **логистической регрессии**"
   ]
  },
  {
   "cell_type": "code",
   "execution_count": 7,
   "id": "9c6c2782",
   "metadata": {},
   "outputs": [
    {
     "name": "stdout",
     "output_type": "stream",
     "text": [
      "accuracy train score: 0.787023\n",
      "accuracy test score: 0.788191\n"
     ]
    }
   ],
   "source": [
    "reg = LogisticRegression(random_state=42, solver=\"liblinear\").fit(X_train, y_train)\n",
    "print(\n",
    "    \"accuracy train score: {:.6f}\".format(accuracy_score(y_train, reg.predict(X_train))),\n",
    "    \"accuracy test score: {:.6f}\".format(accuracy_score(y_test, reg.predict(X_test))),\n",
    "    sep=\"\\n\"\n",
    ")"
   ]
  },
  {
   "cell_type": "markdown",
   "id": "b7627654",
   "metadata": {},
   "source": [
    "Метрика на обучающей и на тестовой выборке практически совпадает, переобучения нет, результат достаточно хороший. Для сравнения попробуем метрические методы и метод опорных векторов. Метод **$K$ ближайших соседей**"
   ]
  },
  {
   "cell_type": "code",
   "execution_count": 8,
   "id": "47efb857",
   "metadata": {},
   "outputs": [
    {
     "name": "stdout",
     "output_type": "stream",
     "text": [
      "Wall time: 1min 42s\n"
     ]
    },
    {
     "data": {
      "text/html": [
       "<div>\n",
       "<style scoped>\n",
       "    .dataframe tbody tr th:only-of-type {\n",
       "        vertical-align: middle;\n",
       "    }\n",
       "\n",
       "    .dataframe tbody tr th {\n",
       "        vertical-align: top;\n",
       "    }\n",
       "\n",
       "    .dataframe thead th {\n",
       "        text-align: right;\n",
       "    }\n",
       "</style>\n",
       "<table border=\"1\" class=\"dataframe\">\n",
       "  <thead>\n",
       "    <tr style=\"text-align: right;\">\n",
       "      <th></th>\n",
       "      <th>param_n_neighbors</th>\n",
       "      <th>param_p</th>\n",
       "      <th>mean_fit_time</th>\n",
       "      <th>mean_test_score</th>\n",
       "      <th>std_test_score</th>\n",
       "    </tr>\n",
       "  </thead>\n",
       "  <tbody>\n",
       "    <tr>\n",
       "      <th>23</th>\n",
       "      <td>25</td>\n",
       "      <td>2</td>\n",
       "      <td>0.073517</td>\n",
       "      <td>0.800513</td>\n",
       "      <td>0.002268</td>\n",
       "    </tr>\n",
       "    <tr>\n",
       "      <th>21</th>\n",
       "      <td>23</td>\n",
       "      <td>2</td>\n",
       "      <td>0.070515</td>\n",
       "      <td>0.800432</td>\n",
       "      <td>0.002936</td>\n",
       "    </tr>\n",
       "    <tr>\n",
       "      <th>20</th>\n",
       "      <td>23</td>\n",
       "      <td>1</td>\n",
       "      <td>0.071462</td>\n",
       "      <td>0.800270</td>\n",
       "      <td>0.002181</td>\n",
       "    </tr>\n",
       "    <tr>\n",
       "      <th>19</th>\n",
       "      <td>21</td>\n",
       "      <td>2</td>\n",
       "      <td>0.070968</td>\n",
       "      <td>0.800081</td>\n",
       "      <td>0.001873</td>\n",
       "    </tr>\n",
       "    <tr>\n",
       "      <th>18</th>\n",
       "      <td>21</td>\n",
       "      <td>1</td>\n",
       "      <td>0.072428</td>\n",
       "      <td>0.799784</td>\n",
       "      <td>0.002298</td>\n",
       "    </tr>\n",
       "  </tbody>\n",
       "</table>\n",
       "</div>"
      ],
      "text/plain": [
       "   param_n_neighbors param_p  mean_fit_time  mean_test_score  std_test_score\n",
       "23                25       2       0.073517         0.800513        0.002268\n",
       "21                23       2       0.070515         0.800432        0.002936\n",
       "20                23       1       0.071462         0.800270        0.002181\n",
       "19                21       2       0.070968         0.800081        0.001873\n",
       "18                21       1       0.072428         0.799784        0.002298"
      ]
     },
     "execution_count": 8,
     "metadata": {},
     "output_type": "execute_result"
    }
   ],
   "source": [
    "%%time\n",
    "\n",
    "knn = GridSearchCV(\n",
    "    estimator=KNeighborsClassifier(), \n",
    "    param_grid={\"n_neighbors\": np.arange(3, 26, 2), \"p\": [1, 2]},\n",
    "    cv=KFold(n_splits=5, shuffle=True, random_state=239),\n",
    "    scoring=\"accuracy\"\n",
    ")\n",
    "\n",
    "knn.fit(X_train, y_train)\n",
    "\n",
    "knn_cv_results = pd.DataFrame(knn.cv_results_).sort_values(by=[\"rank_test_score\"])\n",
    "knn_cv_results[[\"param_n_neighbors\", \"param_p\", \"mean_fit_time\", \"mean_test_score\", \"std_test_score\"]].head()"
   ]
  },
  {
   "cell_type": "code",
   "execution_count": 9,
   "id": "e0c8410b",
   "metadata": {},
   "outputs": [
    {
     "name": "stdout",
     "output_type": "stream",
     "text": [
      "accuracy train score: 0.816808\n",
      "accuracy test score: 0.799200\n"
     ]
    }
   ],
   "source": [
    "print(\n",
    "    \"accuracy train score: {:.6f}\".format(accuracy_score(y_train, knn.predict(X_train))),\n",
    "    \"accuracy test score: {:.6f}\".format(accuracy_score(y_test, knn.predict(X_test))),\n",
    "    sep=\"\\n\"\n",
    ")"
   ]
  },
  {
   "cell_type": "markdown",
   "id": "e201aa01",
   "metadata": {},
   "source": [
    "Получилось чуть лучше, но не сильно. Попробуем **метод опорных векторов**\n",
    "\n",
    "1) линейный"
   ]
  },
  {
   "cell_type": "code",
   "execution_count": 10,
   "id": "4a530fb8",
   "metadata": {},
   "outputs": [
    {
     "name": "stdout",
     "output_type": "stream",
     "text": [
      "accuracy train score: 0.787104\n",
      "accuracy test score: 0.790656\n",
      "Wall time: 672 ms\n"
     ]
    }
   ],
   "source": [
    "%%time\n",
    "\n",
    "linear_svc = LinearSVC(random_state=468).fit(X_train, y_train)\n",
    "print(\n",
    "    \"accuracy train score: {:.6f}\".format(accuracy_score(y_train, linear_svc.predict(X_train))),\n",
    "    \"accuracy test score: {:.6f}\".format(accuracy_score(y_test, linear_svc.predict(X_test))),\n",
    "    sep=\"\\n\"\n",
    ")"
   ]
  },
  {
   "cell_type": "markdown",
   "id": "d94b2a2e",
   "metadata": {},
   "source": [
    "2) с радиальной базисной функцией Гаусса"
   ]
  },
  {
   "cell_type": "code",
   "execution_count": 11,
   "id": "cdbc0556",
   "metadata": {},
   "outputs": [
    {
     "name": "stdout",
     "output_type": "stream",
     "text": [
      "accuracy train score: 0.821071\n",
      "accuracy test score: 0.814208\n",
      "Wall time: 2min 15s\n"
     ]
    }
   ],
   "source": [
    "%%time\n",
    "\n",
    "rbf_svc = SVC(kernel=\"rbf\").fit(X_train, y_train)\n",
    "print(\n",
    "    \"accuracy train score: {:.6f}\".format(accuracy_score(y_train, rbf_svc.predict(X_train))),\n",
    "    \"accuracy test score: {:.6f}\".format(accuracy_score(y_test, rbf_svc.predict(X_test))),\n",
    "    sep=\"\\n\"\n",
    ")"
   ]
  },
  {
   "cell_type": "markdown",
   "id": "d350bd87",
   "metadata": {},
   "source": [
    "3) с полиномиальным ядром второй степени"
   ]
  },
  {
   "cell_type": "code",
   "execution_count": 12,
   "id": "9ca0b519",
   "metadata": {},
   "outputs": [
    {
     "name": "stdout",
     "output_type": "stream",
     "text": [
      "accuracy train score: 0.815540\n",
      "accuracy test score: 0.812839\n",
      "Wall time: 1min 4s\n"
     ]
    }
   ],
   "source": [
    "%%time\n",
    "\n",
    "poly_svc = SVC(kernel=\"poly\", degree=2, coef0=1.0).fit(X_train, y_train)\n",
    "print(\n",
    "    \"accuracy train score: {:.6f}\".format(accuracy_score(y_train, poly_svc.predict(X_train))),\n",
    "    \"accuracy test score: {:.6f}\".format(accuracy_score(y_test, poly_svc.predict(X_test))),\n",
    "    sep=\"\\n\"\n",
    ")"
   ]
  },
  {
   "cell_type": "markdown",
   "id": "8ec445de",
   "metadata": {},
   "source": [
    "Итог: классическими моделями по квартилям удалось выжать максимум 81% `accuracy`, "
   ]
  }
 ],
 "metadata": {
  "kernelspec": {
   "display_name": "Python 3 (ipykernel)",
   "language": "python",
   "name": "python3"
  },
  "language_info": {
   "codemirror_mode": {
    "name": "ipython",
    "version": 3
   },
   "file_extension": ".py",
   "mimetype": "text/x-python",
   "name": "python",
   "nbconvert_exporter": "python",
   "pygments_lexer": "ipython3",
   "version": "3.7.11"
  }
 },
 "nbformat": 4,
 "nbformat_minor": 5
}
