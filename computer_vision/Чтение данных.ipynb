{
 "cells": [
  {
   "cell_type": "markdown",
   "id": "727ec8cb",
   "metadata": {},
   "source": [
    "# Чтение данных\n",
    "\n",
    "Имеется набор данных: цветные фотографии, сделанные внутри помещений и на улице. Необходимо обучить модель, которая будет проводить классификацию изображений по этому признаку. Базовая модель будет построена следующим образом: по каждому изображению по каждому цвету будет построена гистограмма интенсивности этого цвета в пикселях изображения. На гистограмме будут отмечены нижний и верхний квартили и медиана. Таким образом, для каждого изображения будет получено девять признаков, по которым мы попробуем построить различные модели: логистическую регрессию, метод опорных, $K$ ближайших соседей (или, быть может, метод парзеновского окна). В этом файле мы подготовим два набора данных: \n",
    "\n",
    "1) изображения, отмасштабированные к виду $50 \\times 50$ пикселей\n",
    "2) квартили, построенные по полученным изображениям\n",
    "\n",
    "Импортируем инструменты"
   ]
  },
  {
   "cell_type": "code",
   "execution_count": 1,
   "id": "2cc703e4",
   "metadata": {},
   "outputs": [],
   "source": [
    "import re\n",
    "\n",
    "import numpy as np\n",
    "import pandas as pd\n",
    "\n",
    "import matplotlib.pyplot as plt\n",
    "\n",
    "from skimage.io import imread_collection\n",
    "from skimage.transform import resize\n",
    "\n",
    "from tqdm import tqdm"
   ]
  },
  {
   "cell_type": "markdown",
   "id": "09e10f0a",
   "metadata": {},
   "source": [
    "Загружаем данные и меняем размер изображений"
   ]
  },
  {
   "cell_type": "code",
   "execution_count": 2,
   "id": "0705f413",
   "metadata": {},
   "outputs": [
    {
     "name": "stderr",
     "output_type": "stream",
     "text": [
      "100%|█████████████████████████████████████████████████████████████████████████████████████████████████████████████████████████████████████████████████████████████████████████████████████████████████| 28106/28106 [07:30<00:00, 62.35it/s]\n"
     ]
    },
    {
     "name": "stdout",
     "output_type": "stream",
     "text": [
      "Wall time: 7min 40s\n"
     ]
    },
    {
     "data": {
      "text/plain": [
       "(28106, 50, 50, 3)"
      ]
     },
     "execution_count": 2,
     "metadata": {},
     "output_type": "execute_result"
    }
   ],
   "source": [
    "%%time\n",
    "\n",
    "indoor = imread_collection(\"images\\indoor\\*.jpg\")\n",
    "\n",
    "indoor_ndarray = np.array(\n",
    "    [resize(indoor.load_func(filename), (50, 50)) for filename in tqdm(indoor.files)], \n",
    "    dtype=np.float16\n",
    ")\n",
    "\n",
    "indoor_ndarray.shape"
   ]
  },
  {
   "cell_type": "code",
   "execution_count": 3,
   "id": "c8b9d199",
   "metadata": {},
   "outputs": [
    {
     "name": "stderr",
     "output_type": "stream",
     "text": [
      "100%|█████████████████████████████████████████████████████████████████████████████████████████████████████████████████████████████████████████████████████████████████████████████████████████████████| 27216/27216 [07:34<00:00, 59.85it/s]\n"
     ]
    },
    {
     "name": "stdout",
     "output_type": "stream",
     "text": [
      "Wall time: 7min 43s\n"
     ]
    },
    {
     "data": {
      "text/plain": [
       "(27216, 50, 50, 3)"
      ]
     },
     "execution_count": 3,
     "metadata": {},
     "output_type": "execute_result"
    }
   ],
   "source": [
    "%%time\n",
    "\n",
    "outdoor = imread_collection(\"images\\outdoor\\*.jpg\")\n",
    "\n",
    "outdoor_ndarray = np.array(\n",
    "    [resize(outdoor.load_func(filename), (50, 50)) for filename in tqdm(outdoor.files)], \n",
    "    dtype=np.float16\n",
    ")\n",
    "\n",
    "outdoor_ndarray.shape"
   ]
  },
  {
   "cell_type": "markdown",
   "id": "6d168a7b",
   "metadata": {},
   "source": [
    "Из полученных массивов формируем таблицу размером `len(indoor) + len(outdoor)`$\\times 7500$, где $7500 = 50 \\times 50 \\times 3$. То есть, для каждого изображения мы составляем строку, в которой сначала идут красные компоненты каждого пикселя, затем зелёные и наконец синиме. "
   ]
  },
  {
   "cell_type": "code",
   "execution_count": 4,
   "id": "32e16dfb",
   "metadata": {},
   "outputs": [
    {
     "name": "stdout",
     "output_type": "stream",
     "text": [
      "<class 'pandas.core.frame.DataFrame'>\n",
      "RangeIndex: 55322 entries, 0 to 55321\n",
      "Columns: 7501 entries, red_0_0 to target\n",
      "dtypes: float16(7501)\n",
      "memory usage: 791.5 MB\n",
      "Wall time: 1.35 s\n"
     ]
    },
    {
     "data": {
      "text/html": [
       "<div>\n",
       "<style scoped>\n",
       "    .dataframe tbody tr th:only-of-type {\n",
       "        vertical-align: middle;\n",
       "    }\n",
       "\n",
       "    .dataframe tbody tr th {\n",
       "        vertical-align: top;\n",
       "    }\n",
       "\n",
       "    .dataframe thead th {\n",
       "        text-align: right;\n",
       "    }\n",
       "</style>\n",
       "<table border=\"1\" class=\"dataframe\">\n",
       "  <thead>\n",
       "    <tr style=\"text-align: right;\">\n",
       "      <th></th>\n",
       "      <th>red_0_0</th>\n",
       "      <th>red_0_1</th>\n",
       "      <th>red_0_2</th>\n",
       "      <th>red_0_3</th>\n",
       "      <th>red_0_4</th>\n",
       "      <th>red_0_5</th>\n",
       "      <th>red_0_6</th>\n",
       "      <th>red_0_7</th>\n",
       "      <th>red_0_8</th>\n",
       "      <th>red_0_9</th>\n",
       "      <th>...</th>\n",
       "      <th>blue_49_41</th>\n",
       "      <th>blue_49_42</th>\n",
       "      <th>blue_49_43</th>\n",
       "      <th>blue_49_44</th>\n",
       "      <th>blue_49_45</th>\n",
       "      <th>blue_49_46</th>\n",
       "      <th>blue_49_47</th>\n",
       "      <th>blue_49_48</th>\n",
       "      <th>blue_49_49</th>\n",
       "      <th>target</th>\n",
       "    </tr>\n",
       "  </thead>\n",
       "  <tbody>\n",
       "    <tr>\n",
       "      <th>0</th>\n",
       "      <td>0.117676</td>\n",
       "      <td>0.117676</td>\n",
       "      <td>0.117676</td>\n",
       "      <td>0.117676</td>\n",
       "      <td>0.117676</td>\n",
       "      <td>0.117676</td>\n",
       "      <td>0.117676</td>\n",
       "      <td>0.117676</td>\n",
       "      <td>0.117676</td>\n",
       "      <td>0.117676</td>\n",
       "      <td>...</td>\n",
       "      <td>0.572754</td>\n",
       "      <td>0.554199</td>\n",
       "      <td>0.442627</td>\n",
       "      <td>0.434814</td>\n",
       "      <td>0.451172</td>\n",
       "      <td>0.470459</td>\n",
       "      <td>0.487793</td>\n",
       "      <td>0.505859</td>\n",
       "      <td>0.534180</td>\n",
       "      <td>1.0</td>\n",
       "    </tr>\n",
       "    <tr>\n",
       "      <th>1</th>\n",
       "      <td>0.846191</td>\n",
       "      <td>0.865234</td>\n",
       "      <td>0.971680</td>\n",
       "      <td>0.981934</td>\n",
       "      <td>0.987305</td>\n",
       "      <td>0.972656</td>\n",
       "      <td>0.990723</td>\n",
       "      <td>0.954102</td>\n",
       "      <td>0.883789</td>\n",
       "      <td>0.947266</td>\n",
       "      <td>...</td>\n",
       "      <td>0.035309</td>\n",
       "      <td>0.003922</td>\n",
       "      <td>0.027451</td>\n",
       "      <td>0.075989</td>\n",
       "      <td>0.111267</td>\n",
       "      <td>0.114197</td>\n",
       "      <td>0.103943</td>\n",
       "      <td>0.096069</td>\n",
       "      <td>0.075500</td>\n",
       "      <td>1.0</td>\n",
       "    </tr>\n",
       "    <tr>\n",
       "      <th>2</th>\n",
       "      <td>0.974121</td>\n",
       "      <td>0.951172</td>\n",
       "      <td>0.700195</td>\n",
       "      <td>0.699707</td>\n",
       "      <td>0.750977</td>\n",
       "      <td>0.737793</td>\n",
       "      <td>0.982910</td>\n",
       "      <td>0.921875</td>\n",
       "      <td>0.877441</td>\n",
       "      <td>0.683105</td>\n",
       "      <td>...</td>\n",
       "      <td>0.894043</td>\n",
       "      <td>0.851074</td>\n",
       "      <td>0.866699</td>\n",
       "      <td>0.886719</td>\n",
       "      <td>0.890137</td>\n",
       "      <td>0.890137</td>\n",
       "      <td>0.890137</td>\n",
       "      <td>0.890137</td>\n",
       "      <td>0.890137</td>\n",
       "      <td>1.0</td>\n",
       "    </tr>\n",
       "    <tr>\n",
       "      <th>3</th>\n",
       "      <td>0.723633</td>\n",
       "      <td>0.723633</td>\n",
       "      <td>0.650879</td>\n",
       "      <td>0.719727</td>\n",
       "      <td>0.747070</td>\n",
       "      <td>0.770508</td>\n",
       "      <td>0.780273</td>\n",
       "      <td>0.772461</td>\n",
       "      <td>0.735352</td>\n",
       "      <td>0.723633</td>\n",
       "      <td>...</td>\n",
       "      <td>0.519043</td>\n",
       "      <td>0.513184</td>\n",
       "      <td>0.508789</td>\n",
       "      <td>0.535156</td>\n",
       "      <td>0.304443</td>\n",
       "      <td>0.023300</td>\n",
       "      <td>0.033020</td>\n",
       "      <td>0.081177</td>\n",
       "      <td>0.232300</td>\n",
       "      <td>1.0</td>\n",
       "    </tr>\n",
       "    <tr>\n",
       "      <th>4</th>\n",
       "      <td>0.799316</td>\n",
       "      <td>0.810547</td>\n",
       "      <td>0.820312</td>\n",
       "      <td>0.804688</td>\n",
       "      <td>0.770996</td>\n",
       "      <td>0.742188</td>\n",
       "      <td>0.724609</td>\n",
       "      <td>0.712402</td>\n",
       "      <td>0.703613</td>\n",
       "      <td>0.702148</td>\n",
       "      <td>...</td>\n",
       "      <td>0.297607</td>\n",
       "      <td>0.471436</td>\n",
       "      <td>0.501465</td>\n",
       "      <td>0.489990</td>\n",
       "      <td>0.433350</td>\n",
       "      <td>0.377930</td>\n",
       "      <td>0.437744</td>\n",
       "      <td>0.484863</td>\n",
       "      <td>0.474854</td>\n",
       "      <td>1.0</td>\n",
       "    </tr>\n",
       "  </tbody>\n",
       "</table>\n",
       "<p>5 rows × 7501 columns</p>\n",
       "</div>"
      ],
      "text/plain": [
       "    red_0_0   red_0_1   red_0_2   red_0_3   red_0_4   red_0_5   red_0_6  \\\n",
       "0  0.117676  0.117676  0.117676  0.117676  0.117676  0.117676  0.117676   \n",
       "1  0.846191  0.865234  0.971680  0.981934  0.987305  0.972656  0.990723   \n",
       "2  0.974121  0.951172  0.700195  0.699707  0.750977  0.737793  0.982910   \n",
       "3  0.723633  0.723633  0.650879  0.719727  0.747070  0.770508  0.780273   \n",
       "4  0.799316  0.810547  0.820312  0.804688  0.770996  0.742188  0.724609   \n",
       "\n",
       "    red_0_7   red_0_8   red_0_9  ...  blue_49_41  blue_49_42  blue_49_43  \\\n",
       "0  0.117676  0.117676  0.117676  ...    0.572754    0.554199    0.442627   \n",
       "1  0.954102  0.883789  0.947266  ...    0.035309    0.003922    0.027451   \n",
       "2  0.921875  0.877441  0.683105  ...    0.894043    0.851074    0.866699   \n",
       "3  0.772461  0.735352  0.723633  ...    0.519043    0.513184    0.508789   \n",
       "4  0.712402  0.703613  0.702148  ...    0.297607    0.471436    0.501465   \n",
       "\n",
       "   blue_49_44  blue_49_45  blue_49_46  blue_49_47  blue_49_48  blue_49_49  \\\n",
       "0    0.434814    0.451172    0.470459    0.487793    0.505859    0.534180   \n",
       "1    0.075989    0.111267    0.114197    0.103943    0.096069    0.075500   \n",
       "2    0.886719    0.890137    0.890137    0.890137    0.890137    0.890137   \n",
       "3    0.535156    0.304443    0.023300    0.033020    0.081177    0.232300   \n",
       "4    0.489990    0.433350    0.377930    0.437744    0.484863    0.474854   \n",
       "\n",
       "   target  \n",
       "0     1.0  \n",
       "1     1.0  \n",
       "2     1.0  \n",
       "3     1.0  \n",
       "4     1.0  \n",
       "\n",
       "[5 rows x 7501 columns]"
      ]
     },
     "execution_count": 4,
     "metadata": {},
     "output_type": "execute_result"
    }
   ],
   "source": [
    "%%time\n",
    "\n",
    "indoor_rows = np.hstack((\n",
    "    indoor_ndarray[:, :, :, 0].reshape(len(indoor_ndarray), -1), \n",
    "    indoor_ndarray[:, :, :, 1].reshape(len(indoor_ndarray), -1), \n",
    "    indoor_ndarray[:, :, :, 2].reshape(len(indoor_ndarray), -1),\n",
    "    np.ones(shape=(len(indoor_ndarray), 1), dtype=np.float16)\n",
    "))\n",
    "\n",
    "outdoor_rows = np.hstack((\n",
    "    outdoor_ndarray[:, :, :, 0].reshape(len(outdoor_ndarray), -1), \n",
    "    outdoor_ndarray[:, :, :, 1].reshape(len(outdoor_ndarray), -1), \n",
    "    outdoor_ndarray[:, :, :, 2].reshape(len(outdoor_ndarray), -1),\n",
    "    np.zeros(shape=(len(outdoor_ndarray), 1), dtype=np.float16)\n",
    "))\n",
    "\n",
    "color_names = [\"red\", \"green\", \"blue\"]\n",
    "columns=[f\"{color}_{i}_{j}\" for color in color_names for i in range(50) for j in range(50)]\n",
    "columns.append(\"target\")\n",
    "\n",
    "images = pd.DataFrame(np.vstack((indoor_rows, outdoor_rows)), columns=columns)\n",
    "images.info()\n",
    "images.head()"
   ]
  },
  {
   "cell_type": "markdown",
   "id": "aaf85bcb",
   "metadata": {},
   "source": [
    "Теперь считаем квартили"
   ]
  },
  {
   "cell_type": "code",
   "execution_count": 5,
   "id": "ef19c4a2",
   "metadata": {},
   "outputs": [
    {
     "name": "stdout",
     "output_type": "stream",
     "text": [
      "<class 'pandas.core.frame.DataFrame'>\n",
      "RangeIndex: 55322 entries, 0 to 55321\n",
      "Data columns (total 10 columns):\n",
      " #   Column                 Non-Null Count  Dtype  \n",
      "---  ------                 --------------  -----  \n",
      " 0   red_upper_quartiles    55322 non-null  float64\n",
      " 1   red_median             55322 non-null  float64\n",
      " 2   red_lower_quartiles    55322 non-null  float64\n",
      " 3   green_upper_quartiles  55322 non-null  float64\n",
      " 4   green_median           55322 non-null  float64\n",
      " 5   green_lower_quartiles  55322 non-null  float64\n",
      " 6   blue_upper_quartiles   55322 non-null  float64\n",
      " 7   blue_median            55322 non-null  float64\n",
      " 8   blue_lower_quartiles   55322 non-null  float64\n",
      " 9   target                 55322 non-null  float64\n",
      "dtypes: float64(10)\n",
      "memory usage: 4.2 MB\n",
      "Wall time: 15.1 s\n"
     ]
    },
    {
     "data": {
      "text/html": [
       "<div>\n",
       "<style scoped>\n",
       "    .dataframe tbody tr th:only-of-type {\n",
       "        vertical-align: middle;\n",
       "    }\n",
       "\n",
       "    .dataframe tbody tr th {\n",
       "        vertical-align: top;\n",
       "    }\n",
       "\n",
       "    .dataframe thead th {\n",
       "        text-align: right;\n",
       "    }\n",
       "</style>\n",
       "<table border=\"1\" class=\"dataframe\">\n",
       "  <thead>\n",
       "    <tr style=\"text-align: right;\">\n",
       "      <th></th>\n",
       "      <th>red_upper_quartiles</th>\n",
       "      <th>red_median</th>\n",
       "      <th>red_lower_quartiles</th>\n",
       "      <th>green_upper_quartiles</th>\n",
       "      <th>green_median</th>\n",
       "      <th>green_lower_quartiles</th>\n",
       "      <th>blue_upper_quartiles</th>\n",
       "      <th>blue_median</th>\n",
       "      <th>blue_lower_quartiles</th>\n",
       "      <th>target</th>\n",
       "    </tr>\n",
       "  </thead>\n",
       "  <tbody>\n",
       "    <tr>\n",
       "      <th>0</th>\n",
       "      <td>0.195892</td>\n",
       "      <td>0.166290</td>\n",
       "      <td>0.152954</td>\n",
       "      <td>0.379395</td>\n",
       "      <td>0.333496</td>\n",
       "      <td>0.317017</td>\n",
       "      <td>0.617920</td>\n",
       "      <td>0.583008</td>\n",
       "      <td>0.556274</td>\n",
       "      <td>1.0</td>\n",
       "    </tr>\n",
       "    <tr>\n",
       "      <th>1</th>\n",
       "      <td>0.741699</td>\n",
       "      <td>0.657227</td>\n",
       "      <td>0.434692</td>\n",
       "      <td>0.803223</td>\n",
       "      <td>0.729492</td>\n",
       "      <td>0.527344</td>\n",
       "      <td>0.847290</td>\n",
       "      <td>0.774902</td>\n",
       "      <td>0.595215</td>\n",
       "      <td>1.0</td>\n",
       "    </tr>\n",
       "    <tr>\n",
       "      <th>2</th>\n",
       "      <td>0.686035</td>\n",
       "      <td>0.567139</td>\n",
       "      <td>0.567749</td>\n",
       "      <td>0.832275</td>\n",
       "      <td>0.811523</td>\n",
       "      <td>0.804443</td>\n",
       "      <td>0.890137</td>\n",
       "      <td>0.874512</td>\n",
       "      <td>0.867798</td>\n",
       "      <td>1.0</td>\n",
       "    </tr>\n",
       "    <tr>\n",
       "      <th>3</th>\n",
       "      <td>0.466248</td>\n",
       "      <td>0.420166</td>\n",
       "      <td>0.320251</td>\n",
       "      <td>0.561768</td>\n",
       "      <td>0.504395</td>\n",
       "      <td>0.410400</td>\n",
       "      <td>0.640625</td>\n",
       "      <td>0.565063</td>\n",
       "      <td>0.477539</td>\n",
       "      <td>1.0</td>\n",
       "    </tr>\n",
       "    <tr>\n",
       "      <th>4</th>\n",
       "      <td>0.654297</td>\n",
       "      <td>0.659912</td>\n",
       "      <td>0.615234</td>\n",
       "      <td>0.757324</td>\n",
       "      <td>0.750000</td>\n",
       "      <td>0.696289</td>\n",
       "      <td>0.810547</td>\n",
       "      <td>0.802734</td>\n",
       "      <td>0.752930</td>\n",
       "      <td>1.0</td>\n",
       "    </tr>\n",
       "  </tbody>\n",
       "</table>\n",
       "</div>"
      ],
      "text/plain": [
       "   red_upper_quartiles  red_median  red_lower_quartiles  \\\n",
       "0             0.195892    0.166290             0.152954   \n",
       "1             0.741699    0.657227             0.434692   \n",
       "2             0.686035    0.567139             0.567749   \n",
       "3             0.466248    0.420166             0.320251   \n",
       "4             0.654297    0.659912             0.615234   \n",
       "\n",
       "   green_upper_quartiles  green_median  green_lower_quartiles  \\\n",
       "0               0.379395      0.333496               0.317017   \n",
       "1               0.803223      0.729492               0.527344   \n",
       "2               0.832275      0.811523               0.804443   \n",
       "3               0.561768      0.504395               0.410400   \n",
       "4               0.757324      0.750000               0.696289   \n",
       "\n",
       "   blue_upper_quartiles  blue_median  blue_lower_quartiles  target  \n",
       "0              0.617920     0.583008              0.556274     1.0  \n",
       "1              0.847290     0.774902              0.595215     1.0  \n",
       "2              0.890137     0.874512              0.867798     1.0  \n",
       "3              0.640625     0.565063              0.477539     1.0  \n",
       "4              0.810547     0.802734              0.752930     1.0  "
      ]
     },
     "execution_count": 5,
     "metadata": {},
     "output_type": "execute_result"
    }
   ],
   "source": [
    "%%time\n",
    "\n",
    "quartiles = np.linspace(0.25, 1, 3, endpoint=False)\n",
    "\n",
    "indoor_quartiles = np.quantile(indoor_ndarray, quartiles, axis=(1, 2))\n",
    "indoor_quartiles = np.hstack((\n",
    "    indoor_quartiles[0], \n",
    "    indoor_quartiles[1], \n",
    "    indoor_quartiles[2], \n",
    "    np.ones(shape=(len(indoor_quartiles[0]), 1))\n",
    "))\n",
    "\n",
    "outdoor_quartiles = np.quantile(outdoor_ndarray, quartiles, axis=(1, 2))\n",
    "outdoor_quartiles = np.hstack((\n",
    "    outdoor_quartiles[0], \n",
    "    outdoor_quartiles[1], \n",
    "    outdoor_quartiles[2], \n",
    "    np.zeros(shape=(len(outdoor_quartiles[0]), 1))\n",
    "))\n",
    "\n",
    "quartile_names = [\"upper_quartiles\", \"median\", \"lower_quartiles\"]\n",
    "columns = [f\"{color}_{quartile}\" for color in color_names for quartile in quartile_names]\n",
    "columns.append(\"target\")\n",
    "\n",
    "images_quartiles = pd.DataFrame(np.vstack((indoor_quartiles, outdoor_quartiles)), columns=columns)\n",
    "images_quartiles.info()\n",
    "images_quartiles.head()"
   ]
  },
  {
   "cell_type": "markdown",
   "id": "f718f249",
   "metadata": {},
   "source": [
    "Сохраняем результаты"
   ]
  },
  {
   "cell_type": "code",
   "execution_count": 6,
   "id": "0b28d86d",
   "metadata": {},
   "outputs": [
    {
     "data": {
      "text/plain": [
       "1"
      ]
     },
     "execution_count": 6,
     "metadata": {},
     "output_type": "execute_result"
    }
   ],
   "source": [
    "pd.DataFrame(images.values, columns=images.columns, dtype=np.float64).to_parquet(\"images.parquet\", compression=None)"
   ]
  },
  {
   "cell_type": "code",
   "execution_count": 7,
   "id": "091282ad",
   "metadata": {},
   "outputs": [
    {
     "data": {
      "text/plain": [
       "1"
      ]
     },
     "execution_count": 7,
     "metadata": {},
     "output_type": "execute_result"
    }
   ],
   "source": [
    "images_quartiles.to_parquet(\"images_quartiles.parquet\", compression=None)"
   ]
  }
 ],
 "metadata": {
  "kernelspec": {
   "display_name": "Python 3 (ipykernel)",
   "language": "python",
   "name": "python3"
  },
  "language_info": {
   "codemirror_mode": {
    "name": "ipython",
    "version": 3
   },
   "file_extension": ".py",
   "mimetype": "text/x-python",
   "name": "python",
   "nbconvert_exporter": "python",
   "pygments_lexer": "ipython3",
   "version": "3.7.11"
  }
 },
 "nbformat": 4,
 "nbformat_minor": 5
}
