{
 "cells": [
  {
   "cell_type": "markdown",
   "id": "15a3d882",
   "metadata": {},
   "source": [
    "# Нейросетевой анализ\n",
    "\n",
    "Мы приведём два варианта нейросетевого анализа набора данных. Первый заключается в построении полносвязной нейронной сети по изображениям, *растянутым* в вектора. \n",
    "\n",
    "Импортируем инструменты"
   ]
  },
  {
   "cell_type": "code",
   "execution_count": 1,
   "id": "22e4821b",
   "metadata": {},
   "outputs": [],
   "source": [
    "import numpy as np\n",
    "import pandas as pd\n",
    "\n",
    "import matplotlib.pyplot as plt\n",
    "\n",
    "from sklearn.metrics import accuracy_score, roc_auc_score\n",
    "from sklearn.model_selection import train_test_split\n",
    "from sklearn.preprocessing import StandardScaler\n",
    "\n",
    "import tensorflow as tf\n",
    "from tensorflow.keras import Sequential\n",
    "from tensorflow.keras.layers import Dense, Dropout, Input"
   ]
  },
  {
   "cell_type": "markdown",
   "id": "0965cd79",
   "metadata": {},
   "source": [
    "Импортируем данные"
   ]
  },
  {
   "cell_type": "code",
   "execution_count": 2,
   "id": "36160005",
   "metadata": {},
   "outputs": [
    {
     "name": "stdout",
     "output_type": "stream",
     "text": [
      "<class 'pandas.core.frame.DataFrame'>\n",
      "RangeIndex: 55322 entries, 0 to 55321\n",
      "Columns: 7501 entries, red_0_0 to target\n",
      "dtypes: float64(7501)\n",
      "memory usage: 3.1 GB\n"
     ]
    },
    {
     "data": {
      "text/html": [
       "<div>\n",
       "<style scoped>\n",
       "    .dataframe tbody tr th:only-of-type {\n",
       "        vertical-align: middle;\n",
       "    }\n",
       "\n",
       "    .dataframe tbody tr th {\n",
       "        vertical-align: top;\n",
       "    }\n",
       "\n",
       "    .dataframe thead th {\n",
       "        text-align: right;\n",
       "    }\n",
       "</style>\n",
       "<table border=\"1\" class=\"dataframe\">\n",
       "  <thead>\n",
       "    <tr style=\"text-align: right;\">\n",
       "      <th></th>\n",
       "      <th>red_0_0</th>\n",
       "      <th>red_0_1</th>\n",
       "      <th>red_0_2</th>\n",
       "      <th>red_0_3</th>\n",
       "      <th>red_0_4</th>\n",
       "      <th>red_0_5</th>\n",
       "      <th>red_0_6</th>\n",
       "      <th>red_0_7</th>\n",
       "      <th>red_0_8</th>\n",
       "      <th>red_0_9</th>\n",
       "      <th>...</th>\n",
       "      <th>blue_49_41</th>\n",
       "      <th>blue_49_42</th>\n",
       "      <th>blue_49_43</th>\n",
       "      <th>blue_49_44</th>\n",
       "      <th>blue_49_45</th>\n",
       "      <th>blue_49_46</th>\n",
       "      <th>blue_49_47</th>\n",
       "      <th>blue_49_48</th>\n",
       "      <th>blue_49_49</th>\n",
       "      <th>target</th>\n",
       "    </tr>\n",
       "  </thead>\n",
       "  <tbody>\n",
       "    <tr>\n",
       "      <th>0</th>\n",
       "      <td>0.117676</td>\n",
       "      <td>0.117676</td>\n",
       "      <td>0.117676</td>\n",
       "      <td>0.117676</td>\n",
       "      <td>0.117676</td>\n",
       "      <td>0.117676</td>\n",
       "      <td>0.117676</td>\n",
       "      <td>0.117676</td>\n",
       "      <td>0.117676</td>\n",
       "      <td>0.117676</td>\n",
       "      <td>...</td>\n",
       "      <td>0.572754</td>\n",
       "      <td>0.554199</td>\n",
       "      <td>0.442627</td>\n",
       "      <td>0.434814</td>\n",
       "      <td>0.451172</td>\n",
       "      <td>0.470459</td>\n",
       "      <td>0.487793</td>\n",
       "      <td>0.505859</td>\n",
       "      <td>0.534180</td>\n",
       "      <td>1.0</td>\n",
       "    </tr>\n",
       "    <tr>\n",
       "      <th>1</th>\n",
       "      <td>0.846191</td>\n",
       "      <td>0.865234</td>\n",
       "      <td>0.971680</td>\n",
       "      <td>0.981934</td>\n",
       "      <td>0.987305</td>\n",
       "      <td>0.972656</td>\n",
       "      <td>0.990723</td>\n",
       "      <td>0.954102</td>\n",
       "      <td>0.883789</td>\n",
       "      <td>0.947266</td>\n",
       "      <td>...</td>\n",
       "      <td>0.035309</td>\n",
       "      <td>0.003922</td>\n",
       "      <td>0.027451</td>\n",
       "      <td>0.075989</td>\n",
       "      <td>0.111267</td>\n",
       "      <td>0.114197</td>\n",
       "      <td>0.103943</td>\n",
       "      <td>0.096069</td>\n",
       "      <td>0.075500</td>\n",
       "      <td>1.0</td>\n",
       "    </tr>\n",
       "    <tr>\n",
       "      <th>2</th>\n",
       "      <td>0.974121</td>\n",
       "      <td>0.951172</td>\n",
       "      <td>0.700195</td>\n",
       "      <td>0.699707</td>\n",
       "      <td>0.750977</td>\n",
       "      <td>0.737793</td>\n",
       "      <td>0.982910</td>\n",
       "      <td>0.921875</td>\n",
       "      <td>0.877441</td>\n",
       "      <td>0.683105</td>\n",
       "      <td>...</td>\n",
       "      <td>0.894043</td>\n",
       "      <td>0.851074</td>\n",
       "      <td>0.866699</td>\n",
       "      <td>0.886719</td>\n",
       "      <td>0.890137</td>\n",
       "      <td>0.890137</td>\n",
       "      <td>0.890137</td>\n",
       "      <td>0.890137</td>\n",
       "      <td>0.890137</td>\n",
       "      <td>1.0</td>\n",
       "    </tr>\n",
       "    <tr>\n",
       "      <th>3</th>\n",
       "      <td>0.723633</td>\n",
       "      <td>0.723633</td>\n",
       "      <td>0.650879</td>\n",
       "      <td>0.719727</td>\n",
       "      <td>0.747070</td>\n",
       "      <td>0.770508</td>\n",
       "      <td>0.780273</td>\n",
       "      <td>0.772461</td>\n",
       "      <td>0.735352</td>\n",
       "      <td>0.723633</td>\n",
       "      <td>...</td>\n",
       "      <td>0.519043</td>\n",
       "      <td>0.513184</td>\n",
       "      <td>0.508789</td>\n",
       "      <td>0.535156</td>\n",
       "      <td>0.304443</td>\n",
       "      <td>0.023300</td>\n",
       "      <td>0.033020</td>\n",
       "      <td>0.081177</td>\n",
       "      <td>0.232300</td>\n",
       "      <td>1.0</td>\n",
       "    </tr>\n",
       "    <tr>\n",
       "      <th>4</th>\n",
       "      <td>0.799316</td>\n",
       "      <td>0.810547</td>\n",
       "      <td>0.820312</td>\n",
       "      <td>0.804688</td>\n",
       "      <td>0.770996</td>\n",
       "      <td>0.742188</td>\n",
       "      <td>0.724609</td>\n",
       "      <td>0.712402</td>\n",
       "      <td>0.703613</td>\n",
       "      <td>0.702148</td>\n",
       "      <td>...</td>\n",
       "      <td>0.297607</td>\n",
       "      <td>0.471436</td>\n",
       "      <td>0.501465</td>\n",
       "      <td>0.489990</td>\n",
       "      <td>0.433350</td>\n",
       "      <td>0.377930</td>\n",
       "      <td>0.437744</td>\n",
       "      <td>0.484863</td>\n",
       "      <td>0.474854</td>\n",
       "      <td>1.0</td>\n",
       "    </tr>\n",
       "  </tbody>\n",
       "</table>\n",
       "<p>5 rows × 7501 columns</p>\n",
       "</div>"
      ],
      "text/plain": [
       "    red_0_0   red_0_1   red_0_2   red_0_3   red_0_4   red_0_5   red_0_6  \\\n",
       "0  0.117676  0.117676  0.117676  0.117676  0.117676  0.117676  0.117676   \n",
       "1  0.846191  0.865234  0.971680  0.981934  0.987305  0.972656  0.990723   \n",
       "2  0.974121  0.951172  0.700195  0.699707  0.750977  0.737793  0.982910   \n",
       "3  0.723633  0.723633  0.650879  0.719727  0.747070  0.770508  0.780273   \n",
       "4  0.799316  0.810547  0.820312  0.804688  0.770996  0.742188  0.724609   \n",
       "\n",
       "    red_0_7   red_0_8   red_0_9  ...  blue_49_41  blue_49_42  blue_49_43  \\\n",
       "0  0.117676  0.117676  0.117676  ...    0.572754    0.554199    0.442627   \n",
       "1  0.954102  0.883789  0.947266  ...    0.035309    0.003922    0.027451   \n",
       "2  0.921875  0.877441  0.683105  ...    0.894043    0.851074    0.866699   \n",
       "3  0.772461  0.735352  0.723633  ...    0.519043    0.513184    0.508789   \n",
       "4  0.712402  0.703613  0.702148  ...    0.297607    0.471436    0.501465   \n",
       "\n",
       "   blue_49_44  blue_49_45  blue_49_46  blue_49_47  blue_49_48  blue_49_49  \\\n",
       "0    0.434814    0.451172    0.470459    0.487793    0.505859    0.534180   \n",
       "1    0.075989    0.111267    0.114197    0.103943    0.096069    0.075500   \n",
       "2    0.886719    0.890137    0.890137    0.890137    0.890137    0.890137   \n",
       "3    0.535156    0.304443    0.023300    0.033020    0.081177    0.232300   \n",
       "4    0.489990    0.433350    0.377930    0.437744    0.484863    0.474854   \n",
       "\n",
       "   target  \n",
       "0     1.0  \n",
       "1     1.0  \n",
       "2     1.0  \n",
       "3     1.0  \n",
       "4     1.0  \n",
       "\n",
       "[5 rows x 7501 columns]"
      ]
     },
     "execution_count": 2,
     "metadata": {},
     "output_type": "execute_result"
    }
   ],
   "source": [
    "data = pd.read_parquet(\"images.parquet\")\n",
    "data.info()\n",
    "data.head()"
   ]
  },
  {
   "cell_type": "markdown",
   "id": "fb2c45e3",
   "metadata": {},
   "source": [
    "Составляем матрицу объекты-признаки и вектор целевой переменной"
   ]
  },
  {
   "cell_type": "code",
   "execution_count": 3,
   "id": "7592c847",
   "metadata": {},
   "outputs": [
    {
     "data": {
      "text/plain": [
       "((55322, 7500), (55322, 1))"
      ]
     },
     "execution_count": 3,
     "metadata": {},
     "output_type": "execute_result"
    }
   ],
   "source": [
    "X = data.drop(columns=[\"target\"]).values\n",
    "y = np.array(data[\"target\"].values.reshape(-1, 1), dtype=np.int32)\n",
    "X.shape, y.shape"
   ]
  },
  {
   "cell_type": "markdown",
   "id": "d2bba49c",
   "metadata": {},
   "source": [
    "Разбиваем выборку на обучающую и тестовую "
   ]
  },
  {
   "cell_type": "code",
   "execution_count": 4,
   "id": "e9da7e17",
   "metadata": {},
   "outputs": [],
   "source": [
    "X_train, X_test, y_train, y_test = train_test_split(X, y, test_size=0.33, random_state=42)"
   ]
  },
  {
   "cell_type": "markdown",
   "id": "29b53002",
   "metadata": {},
   "source": [
    "Стандартизируем данные"
   ]
  },
  {
   "cell_type": "code",
   "execution_count": 5,
   "id": "ae5b3ed7",
   "metadata": {},
   "outputs": [],
   "source": [
    "ss = StandardScaler().fit(X_train)\n",
    "\n",
    "X_train_scaled = ss.transform(X_train)\n",
    "X_test_scaled = ss.transform(X_test)"
   ]
  },
  {
   "cell_type": "markdown",
   "id": "9484ae28",
   "metadata": {},
   "source": [
    "Определяем модель"
   ]
  },
  {
   "cell_type": "code",
   "execution_count": 6,
   "id": "b2497334",
   "metadata": {},
   "outputs": [],
   "source": [
    "model = Sequential(name=\"full_connected\")\n",
    "\n",
    "model.add(Input(shape=(X_train_scaled.shape[1],)))\n",
    "model.add(Dense(1500, name=\"color\", dtype=np.float32)) \n",
    "model.add(Dropout(0.33))\n",
    "model.add(Dense(300, activation=\"relu\", dtype=np.float64))\n",
    "model.add(Dense(60, activation=\"relu\", dtype=np.float64))\n",
    "model.add(Dense(12, activation=\"relu\", dtype=np.float64))\n",
    "model.add(Dense(1, activation=\"sigmoid\", name=\"output_layer\", dtype=np.float64))\n",
    "\n",
    "model.compile(optimizer=\"adam\", loss=\"binary_crossentropy\", metrics=[\"accuracy\"])"
   ]
  },
  {
   "cell_type": "markdown",
   "id": "24996993",
   "metadata": {},
   "source": [
    "Проводим обучение"
   ]
  },
  {
   "cell_type": "code",
   "execution_count": 7,
   "id": "3f55fc4f",
   "metadata": {},
   "outputs": [
    {
     "name": "stdout",
     "output_type": "stream",
     "text": [
      "Epoch 1/4\n",
      "1159/1159 [==============================] - 97s 84ms/step - loss: 0.4240 - accuracy: 0.8406\n",
      "Epoch 2/4\n",
      "1159/1159 [==============================] - 87s 75ms/step - loss: 0.2946 - accuracy: 0.8809\n",
      "Epoch 3/4\n",
      "1159/1159 [==============================] - 88s 76ms/step - loss: 0.2860 - accuracy: 0.8830\n",
      "Epoch 4/4\n",
      "1159/1159 [==============================] - 86s 74ms/step - loss: 0.2641 - accuracy: 0.8926\n"
     ]
    },
    {
     "data": {
      "text/plain": [
       "<tensorflow.python.keras.callbacks.History at 0x220e44fc108>"
      ]
     },
     "execution_count": 7,
     "metadata": {},
     "output_type": "execute_result"
    }
   ],
   "source": [
    "model.fit(X_train_scaled, y_train, epochs=4, batch_size=32)"
   ]
  },
  {
   "cell_type": "markdown",
   "id": "eec26229",
   "metadata": {},
   "source": [
    "Проверяем качество"
   ]
  },
  {
   "cell_type": "code",
   "execution_count": 8,
   "id": "bf1363cb",
   "metadata": {},
   "outputs": [],
   "source": [
    "y_pred = model.predict(X_test_scaled).flatten()"
   ]
  },
  {
   "cell_type": "code",
   "execution_count": 9,
   "id": "620e350d",
   "metadata": {},
   "outputs": [
    {
     "data": {
      "text/plain": [
       "0.8837158350221833"
      ]
     },
     "execution_count": 9,
     "metadata": {},
     "output_type": "execute_result"
    }
   ],
   "source": [
    "accuracy_score(y_test.flatten(), np.array(y_pred > 0.5, dtype=np.int16))"
   ]
  },
  {
   "cell_type": "code",
   "execution_count": 10,
   "id": "042d7e6d",
   "metadata": {},
   "outputs": [
    {
     "data": {
      "text/plain": [
       "0.9528931790372381"
      ]
     },
     "execution_count": 10,
     "metadata": {},
     "output_type": "execute_result"
    }
   ],
   "source": [
    "roc_auc_score(y_test.flatten(), y_pred)"
   ]
  }
 ],
 "metadata": {
  "kernelspec": {
   "display_name": "Python 3 (ipykernel)",
   "language": "python",
   "name": "python3"
  },
  "language_info": {
   "codemirror_mode": {
    "name": "ipython",
    "version": 3
   },
   "file_extension": ".py",
   "mimetype": "text/x-python",
   "name": "python",
   "nbconvert_exporter": "python",
   "pygments_lexer": "ipython3",
   "version": "3.7.11"
  }
 },
 "nbformat": 4,
 "nbformat_minor": 5
}
