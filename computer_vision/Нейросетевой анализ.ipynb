{
 "cells": [
  {
   "cell_type": "markdown",
   "id": "15a3d882",
   "metadata": {},
   "source": [
    "# Нейросетевой анализ\n",
    "\n",
    "Мы приведём два варианта нейросетевого анализа набора данных. Первый заключается в построении полносвязной нейронной сети по изображениям, *растянутым* в вектора. Второй вариант состоит в построении свёрточной нейронной сети. \n",
    "\n",
    "Импортируем инструменты"
   ]
  },
  {
   "cell_type": "code",
   "execution_count": null,
   "id": "22e4821b",
   "metadata": {},
   "outputs": [],
   "source": [
    "import numpy as np\n",
    "import pandas as pd\n",
    "\n",
    "import matplotlib.pyplot as plt\n",
    "\n",
    "from sklearn.metrics import accuracy_score, roc_auc_score\n",
    "from sklearn.model_selection import train_test_split\n",
    "from sklearn.preprocessing import StandardScaler\n",
    "\n",
    "import tensorflow as tf\n",
    "from tensorflow.keras import Sequential\n",
    "from tensorflow.keras.layers import Dense, Dropout, Input"
   ]
  },
  {
   "cell_type": "markdown",
   "id": "0965cd79",
   "metadata": {},
   "source": [
    "Импортируем данные"
   ]
  },
  {
   "cell_type": "code",
   "execution_count": null,
   "id": "36160005",
   "metadata": {},
   "outputs": [],
   "source": [
    "data = pd.read_parquet(\"images.parquet\")\n",
    "data.info()\n",
    "data.head()"
   ]
  },
  {
   "cell_type": "markdown",
   "id": "fb2c45e3",
   "metadata": {},
   "source": [
    "Составляем матрицу объекты-признаки и вектор целевой переменной"
   ]
  },
  {
   "cell_type": "code",
   "execution_count": null,
   "id": "7592c847",
   "metadata": {},
   "outputs": [],
   "source": [
    "X = data.drop(columns=[\"target\"]).values\n",
    "y = np.array(data[\"target\"].values.reshape(-1, 1), dtype=np.int32)\n",
    "X.shape, y.shape"
   ]
  },
  {
   "cell_type": "markdown",
   "id": "d2bba49c",
   "metadata": {},
   "source": [
    "Разбиваем выборку на обучающую и тестовую "
   ]
  },
  {
   "cell_type": "code",
   "execution_count": null,
   "id": "e9da7e17",
   "metadata": {},
   "outputs": [],
   "source": [
    "X_train, X_test, y_train, y_test = train_test_split(X, y, test_size=0.33, random_state=42)"
   ]
  },
  {
   "cell_type": "markdown",
   "id": "29b53002",
   "metadata": {},
   "source": [
    "Стандартизируем данные"
   ]
  },
  {
   "cell_type": "code",
   "execution_count": null,
   "id": "ae5b3ed7",
   "metadata": {},
   "outputs": [],
   "source": [
    "ss = StandardScaler().fit(X_train)\n",
    "\n",
    "X_train_scaled = ss.transform(X_train)\n",
    "X_test_scaled = ss.transform(X_test)"
   ]
  },
  {
   "cell_type": "markdown",
   "id": "9484ae28",
   "metadata": {},
   "source": [
    "Определяем модель"
   ]
  },
  {
   "cell_type": "code",
   "execution_count": null,
   "id": "b2497334",
   "metadata": {},
   "outputs": [],
   "source": [
    "model = Sequential(name=\"full_connected\")\n",
    "\n",
    "model.add(Input(shape=(X_train_scaled.shape[1],)))\n",
    "model.add(Dense(1500, name=\"color\", dtype=np.float32)) \n",
    "model.add(Dropout(0.33))\n",
    "model.add(Dense(300, activation=\"relu\", dtype=np.float64))\n",
    "model.add(Dense(60, activation=\"relu\", dtype=np.float64))\n",
    "model.add(Dense(12, activation=\"relu\", dtype=np.float64))\n",
    "model.add(Dense(1, activation=\"sigmoid\", name=\"output_layer\", dtype=np.float64))\n",
    "\n",
    "model.compile(optimizer=\"adam\", loss=\"binary_crossentropy\", metrics=[\"accuracy\"])"
   ]
  },
  {
   "cell_type": "markdown",
   "id": "24996993",
   "metadata": {},
   "source": [
    "Проводим обучение"
   ]
  },
  {
   "cell_type": "code",
   "execution_count": null,
   "id": "3f55fc4f",
   "metadata": {},
   "outputs": [],
   "source": [
    "model.fit(X_train_scaled, y_train, epochs=4, batch_size=32)"
   ]
  },
  {
   "cell_type": "markdown",
   "id": "eec26229",
   "metadata": {},
   "source": [
    "Проверяем качество"
   ]
  },
  {
   "cell_type": "code",
   "execution_count": null,
   "id": "bf1363cb",
   "metadata": {},
   "outputs": [],
   "source": [
    "y_pred = model.predict(X_test_scaled).flatten()"
   ]
  },
  {
   "cell_type": "code",
   "execution_count": null,
   "id": "620e350d",
   "metadata": {},
   "outputs": [],
   "source": [
    "accuracy_score(y_test.flatten(), np.array(y_pred > 0.5, dtype=np.int16))"
   ]
  },
  {
   "cell_type": "code",
   "execution_count": null,
   "id": "042d7e6d",
   "metadata": {},
   "outputs": [],
   "source": [
    "roc_auc_score(y_test.flatten(), y_pred)"
   ]
  }
 ],
 "metadata": {
  "kernelspec": {
   "display_name": "Python 3 (ipykernel)",
   "language": "python",
   "name": "python3"
  },
  "language_info": {
   "codemirror_mode": {
    "name": "ipython",
    "version": 3
   },
   "file_extension": ".py",
   "mimetype": "text/x-python",
   "name": "python",
   "nbconvert_exporter": "python",
   "pygments_lexer": "ipython3",
   "version": "3.7.11"
  }
 },
 "nbformat": 4,
 "nbformat_minor": 5
}
