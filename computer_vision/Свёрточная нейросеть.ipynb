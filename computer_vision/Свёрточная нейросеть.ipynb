{
 "cells": [
  {
   "cell_type": "markdown",
   "id": "222d19ce",
   "metadata": {},
   "source": [
    "# Нейросетевой анализ\n",
    "\n",
    "Мы приведём два варианта нейросетевого анализа набора данных. Второй заключается в построении свёрточной нейронной сети по изображениям. \n",
    "\n",
    "Импортируем инструменты"
   ]
  },
  {
   "cell_type": "code",
   "execution_count": null,
   "id": "c86c58e9",
   "metadata": {},
   "outputs": [],
   "source": [
    "import numpy as np\n",
    "import pandas as pd\n",
    "\n",
    "import matplotlib.pyplot as plt\n",
    "\n",
    "from sklearn.metrics import accuracy_score, roc_auc_score\n",
    "from sklearn.model_selection import train_test_split\n",
    "from sklearn.preprocessing import StandardScaler\n",
    "\n",
    "import tensorflow as tf\n",
    "from tensorflow.keras import Sequential\n",
    "from tensorflow.keras.layers import Conv2D, Dense, Dropout, Flatten, Input, MaxPooling2D"
   ]
  },
  {
   "cell_type": "markdown",
   "id": "318a3a91",
   "metadata": {},
   "source": [
    "Импортируем данные"
   ]
  },
  {
   "cell_type": "code",
   "execution_count": null,
   "id": "a0584a84",
   "metadata": {},
   "outputs": [],
   "source": [
    "data = pd.read_parquet(\"images.parquet\")\n",
    "data.info()\n",
    "data.head()"
   ]
  },
  {
   "cell_type": "markdown",
   "id": "b2b97bb1",
   "metadata": {},
   "source": [
    "Составляем матрицу объекты-признаки и вектор целевой переменной"
   ]
  },
  {
   "cell_type": "code",
   "execution_count": null,
   "id": "288b7f89",
   "metadata": {},
   "outputs": [],
   "source": [
    "X = data.drop(columns=[\"target\"]).values\n",
    "y = np.array(data[\"target\"].values.reshape(-1, 1), dtype=np.int32)\n",
    "X.shape, y.shape"
   ]
  },
  {
   "cell_type": "markdown",
   "id": "64535c7c",
   "metadata": {},
   "source": [
    "Изображения в растянутом виде, необходимо привести их в исходный вид, чтобы использовать свёрточную нейронную сеть. Чтобы грамотно составить набор входных данных, нам необходимо организовать правильный порядок столбцов. "
   ]
  },
  {
   "cell_type": "code",
   "execution_count": null,
   "id": "2254d601",
   "metadata": {},
   "outputs": [],
   "source": [
    "%%time\n",
    "\n",
    "color_names = [\"red\", \"green\", \"blue\"]\n",
    "columns=[f\"{color}_{i}_{j}\" for i in range(50) for j in range(50) for color in color_names]\n",
    "\n",
    "X = data[columns].values\n",
    "y = np.array(data[\"target\"].values.reshape(-1, 1), dtype=np.int32)\n",
    "X.shape, y.shape"
   ]
  },
  {
   "cell_type": "markdown",
   "id": "447a7578",
   "metadata": {},
   "source": [
    "Разбиваем выборку на обучающую и тестовую "
   ]
  },
  {
   "cell_type": "code",
   "execution_count": null,
   "id": "60e70e29",
   "metadata": {},
   "outputs": [],
   "source": [
    "X_train, X_test, y_train, y_test = train_test_split(X, y, test_size=0.33, random_state=42)"
   ]
  },
  {
   "cell_type": "markdown",
   "id": "74f245fd",
   "metadata": {},
   "source": [
    "Стандартизируем данные"
   ]
  },
  {
   "cell_type": "code",
   "execution_count": null,
   "id": "86cc7186",
   "metadata": {},
   "outputs": [],
   "source": [
    "ss = StandardScaler().fit(X_train)\n",
    "\n",
    "X_train_scaled = ss.transform(X_train).reshape(-1, 50, 50, 3)\n",
    "X_test_scaled = ss.transform(X_test).reshape(-1, 50, 50, 3)\n",
    "X_train_scaled.shape, X_test_scaled.shape"
   ]
  },
  {
   "cell_type": "markdown",
   "id": "c43c3484",
   "metadata": {},
   "source": [
    "Определяем модель"
   ]
  },
  {
   "cell_type": "code",
   "execution_count": null,
   "id": "5a1db056",
   "metadata": {},
   "outputs": [],
   "source": [
    "model = models.Sequential(name=\"cnn\")\n",
    "\n",
    "model.add(layers.Conv2D(50, (3, 3), activation='relu', input_shape=(50, 50, 3)))\n",
    "model.add(layers.MaxPooling2D((2, 2)))\n",
    "model.add(layers.Conv2D(16, (3, 3), activation='relu'))\n",
    "model.add(layers.MaxPooling2D((2, 2)))\n",
    "model.add(layers.Conv2D(16, (3, 3), activation='relu'))\n",
    "model.add(layers.Flatten())\n",
    "model.add(layers.Dense(64, activation='relu'))\n",
    "model.add(layers.Dense(10))\n",
    "model.add(Dense(1, activation=\"sigmoid\", name=\"output_layer\", dtype=np.float64))\n",
    "\n",
    "model.compile(optimizer=\"adam\", loss=\"binary_crossentropy\", metrics=[\"accuracy\"])"
   ]
  },
  {
   "cell_type": "markdown",
   "id": "932e84d5",
   "metadata": {},
   "source": [
    "Проводим обучение"
   ]
  },
  {
   "cell_type": "code",
   "execution_count": null,
   "id": "71bebb8a",
   "metadata": {},
   "outputs": [],
   "source": [
    "model.fit(X_train_scaled, y_train, epochs=4, batch_size=32)"
   ]
  },
  {
   "cell_type": "markdown",
   "id": "57484655",
   "metadata": {},
   "source": [
    "Проверяем качество"
   ]
  },
  {
   "cell_type": "code",
   "execution_count": null,
   "id": "c4a6dfbd",
   "metadata": {},
   "outputs": [],
   "source": [
    "y_pred = model.predict(X_test_scaled).flatten()"
   ]
  },
  {
   "cell_type": "code",
   "execution_count": null,
   "id": "5dbac32e",
   "metadata": {},
   "outputs": [],
   "source": [
    "accuracy = accuracy_score(y_test.flatten(), np.array(y_pred > 0.5, dtype=np.int16))\n",
    "roc_auc = roc_auc_score(y_test.flatten(), y_pred)\n",
    "print(\"accuracy:{:4.6f}\\nroc_auc:{:4.6f}\".format(accuracy, roc_auc))"
   ]
  },
  {
   "cell_type": "markdown",
   "id": "aaf297c8",
   "metadata": {},
   "source": [
    "**Выводы:** "
   ]
  }
 ],
 "metadata": {
  "kernelspec": {
   "display_name": "Python 3 (ipykernel)",
   "language": "python",
   "name": "python3"
  },
  "language_info": {
   "codemirror_mode": {
    "name": "ipython",
    "version": 3
   },
   "file_extension": ".py",
   "mimetype": "text/x-python",
   "name": "python",
   "nbconvert_exporter": "python",
   "pygments_lexer": "ipython3",
   "version": "3.7.11"
  }
 },
 "nbformat": 4,
 "nbformat_minor": 5
}
