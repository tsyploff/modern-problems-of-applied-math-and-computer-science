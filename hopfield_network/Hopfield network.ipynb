{
 "cells": [
  {
   "cell_type": "markdown",
   "id": "ffed7861",
   "metadata": {},
   "source": [
    "# Нейронная сеть Хопфилда\n",
    "\n",
    "Импортируем инструменты"
   ]
  },
  {
   "cell_type": "code",
   "execution_count": 12,
   "id": "bc89d169",
   "metadata": {},
   "outputs": [],
   "source": [
    "import numpy as np"
   ]
  },
  {
   "cell_type": "code",
   "execution_count": 29,
   "id": "79e062cc",
   "metadata": {},
   "outputs": [
    {
     "name": "stdout",
     "output_type": "stream",
     "text": [
      "[[-1  1  1  1  1  1 -1  1]\n",
      " [-1  1 -1 -1  1 -1  1  1]\n",
      " [-1  1  1 -1 -1 -1  1 -1]]\n"
     ]
    }
   ],
   "source": [
    "y = np.array(np.sign(np.random.random(size=(3, 8)) - 0.5), dtype=np.int32)\n",
    "print(y)"
   ]
  },
  {
   "cell_type": "code",
   "execution_count": 30,
   "id": "91599e4a",
   "metadata": {},
   "outputs": [],
   "source": [
    "hn = HopfieldNetwork().fit(y)"
   ]
  },
  {
   "cell_type": "code",
   "execution_count": 31,
   "id": "dcd48fe0",
   "metadata": {},
   "outputs": [
    {
     "data": {
      "text/plain": [
       "array([[ 1,  1,  1,  1,  1,  1, -1,  1],\n",
       "       [-1, -1, -1,  1,  1, -1,  1, -1],\n",
       "       [-1,  1,  1, -1, -1, -1,  1, -1]])"
      ]
     },
     "execution_count": 31,
     "metadata": {},
     "output_type": "execute_result"
    }
   ],
   "source": [
    "hn.predict(y)"
   ]
  },
  {
   "cell_type": "code",
   "execution_count": null,
   "id": "a73f69c5",
   "metadata": {},
   "outputs": [],
   "source": []
  }
 ],
 "metadata": {
  "kernelspec": {
   "display_name": "Python 3 (ipykernel)",
   "language": "python",
   "name": "python3"
  },
  "language_info": {
   "codemirror_mode": {
    "name": "ipython",
    "version": 3
   },
   "file_extension": ".py",
   "mimetype": "text/x-python",
   "name": "python",
   "nbconvert_exporter": "python",
   "pygments_lexer": "ipython3",
   "version": "3.7.11"
  }
 },
 "nbformat": 4,
 "nbformat_minor": 5
}
