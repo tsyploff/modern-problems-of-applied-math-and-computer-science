{
 "cells": [
  {
   "cell_type": "markdown",
   "id": "ffed7861",
   "metadata": {},
   "source": [
    "# Нейронная сеть Хопфилда\n",
    "\n",
    "Импортируем инструменты"
   ]
  },
  {
   "cell_type": "code",
   "execution_count": 1,
   "id": "bc89d169",
   "metadata": {},
   "outputs": [],
   "source": [
    "import numpy as np\n",
    "from src import HopfieldNetwork\n",
    "\n",
    "from PIL import Image"
   ]
  },
  {
   "cell_type": "markdown",
   "id": "d0c21184",
   "metadata": {},
   "source": [
    "Создадим обучающую выборку эталонных объектов"
   ]
  },
  {
   "cell_type": "code",
   "execution_count": 2,
   "id": "79e062cc",
   "metadata": {},
   "outputs": [
    {
     "name": "stdout",
     "output_type": "stream",
     "text": [
      "[[-1  1  1  1 -1 -1 -1  1]\n",
      " [ 1  1 -1  1  1 -1 -1 -1]\n",
      " [-1  1 -1 -1  1 -1 -1 -1]]\n"
     ]
    }
   ],
   "source": [
    "np.random.seed(42)\n",
    "sample = np.array(np.sign(np.random.random(size=(3, 8)) - 0.5), dtype=np.int32)\n",
    "\n",
    "print(sample)"
   ]
  },
  {
   "cell_type": "markdown",
   "id": "2e285ad6",
   "metadata": {},
   "source": [
    "Обучим сеть Хопфилда по указанной выборке"
   ]
  },
  {
   "cell_type": "code",
   "execution_count": 3,
   "id": "91599e4a",
   "metadata": {},
   "outputs": [],
   "source": [
    "hn = HopfieldNetwork(max_iter=30).fit(sample)"
   ]
  },
  {
   "cell_type": "markdown",
   "id": "d4ab81fa",
   "metadata": {},
   "source": [
    "Посмотрим на матрицу весов"
   ]
  },
  {
   "cell_type": "code",
   "execution_count": 7,
   "id": "8d5af269",
   "metadata": {},
   "outputs": [
    {
     "name": "stdout",
     "output_type": "stream",
     "text": [
      "[[ 0.    -0.333 -0.333  0.333  0.333  0.333  0.333 -0.333]\n",
      " [-0.333  0.    -0.333  0.333  0.333 -1.    -1.    -0.333]\n",
      " [-0.333 -0.333  0.     0.333 -1.     0.333  0.333  1.   ]\n",
      " [ 0.333  0.333  0.333  0.    -0.333 -0.333 -0.333  0.333]\n",
      " [ 0.333  0.333 -1.    -0.333  0.    -0.333 -0.333 -1.   ]\n",
      " [ 0.333 -1.     0.333 -0.333 -0.333  0.     1.     0.333]\n",
      " [ 0.333 -1.     0.333 -0.333 -0.333  1.     0.     0.333]\n",
      " [-0.333 -0.333  1.     0.333 -1.     0.333  0.333  0.   ]]\n"
     ]
    }
   ],
   "source": [
    "print(hn.weights.round(decimals=3))"
   ]
  },
  {
   "cell_type": "markdown",
   "id": "2f69bf51",
   "metadata": {},
   "source": [
    "Проверим, что предсказания для эталонных объектов – сами объекты"
   ]
  },
  {
   "cell_type": "code",
   "execution_count": 8,
   "id": "dcd48fe0",
   "metadata": {},
   "outputs": [
    {
     "data": {
      "text/plain": [
       "True"
      ]
     },
     "execution_count": 8,
     "metadata": {},
     "output_type": "execute_result"
    }
   ],
   "source": [
    "np.all(hn.predict(sample) == sample)"
   ]
  },
  {
   "cell_type": "markdown",
   "id": "a71917cd",
   "metadata": {},
   "source": [
    "Возмьмём какую нибудь другую выборку и выполним предсказания для неё"
   ]
  },
  {
   "cell_type": "code",
   "execution_count": 16,
   "id": "e76af4f2",
   "metadata": {},
   "outputs": [
    {
     "name": "stdout",
     "output_type": "stream",
     "text": [
      "[[-1  1  1  1 -1 -1 -1  1]\n",
      " [ 1  1 -1  1  1 -1 -1 -1]\n",
      " [-1  1 -1 -1  1 -1 -1 -1]]\n",
      "\n",
      "[[False  True False False  True  True  True False]\n",
      " [False  True False  True  True  True False  True]\n",
      " [False  True  True  True  True  True  True  True]]\n"
     ]
    }
   ],
   "source": [
    "np.random.seed(45)\n",
    "test = np.array(np.sign(np.random.random(size=(3, 8)) - 0.5), dtype=np.int32)\n",
    "\n",
    "print(sample, test == sample, sep=\"\\n\" * 2)"
   ]
  },
  {
   "cell_type": "code",
   "execution_count": 17,
   "id": "c6c7ed37",
   "metadata": {},
   "outputs": [
    {
     "name": "stdout",
     "output_type": "stream",
     "text": [
      "[[ 1  1 -1 -1  1 -1 -1 -1]\n",
      " [ 1  1 -1 -1  1 -1 -1 -1]\n",
      " [ 1  1 -1 -1  1 -1 -1 -1]]\n"
     ]
    }
   ],
   "source": [
    "pred = hn.predict(test)\n",
    "\n",
    "print(pred)"
   ]
  },
  {
   "cell_type": "markdown",
   "id": "b7ed7eab",
   "metadata": {},
   "source": [
    "Проверим, что результатом предсказания оказались эталонные объекты"
   ]
  },
  {
   "cell_type": "code",
   "execution_count": 18,
   "id": "1c7cdb22",
   "metadata": {},
   "outputs": [
    {
     "data": {
      "text/plain": [
       "True"
      ]
     },
     "execution_count": 18,
     "metadata": {},
     "output_type": "execute_result"
    }
   ],
   "source": [
    "all(instance in sample for instance in pred)"
   ]
  },
  {
   "cell_type": "markdown",
   "id": "aeaafc3c",
   "metadata": {},
   "source": [
    "Импортируем датасет изображений"
   ]
  },
  {
   "cell_type": "code",
   "execution_count": null,
   "id": "3ecb954d",
   "metadata": {},
   "outputs": [],
   "source": []
  }
 ],
 "metadata": {
  "kernelspec": {
   "display_name": "Python 3 (ipykernel)",
   "language": "python",
   "name": "python3"
  },
  "language_info": {
   "codemirror_mode": {
    "name": "ipython",
    "version": 3
   },
   "file_extension": ".py",
   "mimetype": "text/x-python",
   "name": "python",
   "nbconvert_exporter": "python",
   "pygments_lexer": "ipython3",
   "version": "3.7.11"
  }
 },
 "nbformat": 4,
 "nbformat_minor": 5
}
