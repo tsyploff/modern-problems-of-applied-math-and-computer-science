{
 "cells": [
  {
   "cell_type": "markdown",
   "id": "ffed7861",
   "metadata": {},
   "source": [
    "# Нейронная сеть Хопфилда\n",
    "\n",
    "Импортируем инструменты"
   ]
  },
  {
   "cell_type": "code",
   "execution_count": 1,
   "id": "bc89d169",
   "metadata": {},
   "outputs": [],
   "source": [
    "import numpy as np\n",
    "\n",
    "import matplotlib.pyplot as plt\n",
    "\n",
    "from keras.datasets import mnist \n",
    "from src import HopfieldNetwork"
   ]
  },
  {
   "cell_type": "markdown",
   "id": "d0c21184",
   "metadata": {},
   "source": [
    "Создадим обучающую выборку эталонных объектов"
   ]
  },
  {
   "cell_type": "code",
   "execution_count": 2,
   "id": "79e062cc",
   "metadata": {},
   "outputs": [
    {
     "name": "stdout",
     "output_type": "stream",
     "text": [
      "[[-1  1  1  1 -1 -1 -1  1]\n",
      " [ 1  1 -1  1  1 -1 -1 -1]\n",
      " [-1  1 -1 -1  1 -1 -1 -1]]\n"
     ]
    }
   ],
   "source": [
    "np.random.seed(42)\n",
    "sample = np.array(np.sign(np.random.random(size=(3, 8)) - 0.5), dtype=np.int32)\n",
    "\n",
    "print(sample)"
   ]
  },
  {
   "cell_type": "markdown",
   "id": "2e285ad6",
   "metadata": {},
   "source": [
    "Обучим сеть Хопфилда по указанной выборке"
   ]
  },
  {
   "cell_type": "code",
   "execution_count": 3,
   "id": "91599e4a",
   "metadata": {},
   "outputs": [],
   "source": [
    "hn = HopfieldNetwork(max_iter=30).fit(sample)"
   ]
  },
  {
   "cell_type": "markdown",
   "id": "d4ab81fa",
   "metadata": {},
   "source": [
    "Посмотрим на матрицу весов"
   ]
  },
  {
   "cell_type": "code",
   "execution_count": 4,
   "id": "8d5af269",
   "metadata": {},
   "outputs": [
    {
     "name": "stdout",
     "output_type": "stream",
     "text": [
      "[[ 0. -1. -1.  1.  1.  1.  1. -1.]\n",
      " [-1.  0. -1.  1.  1. -3. -3. -1.]\n",
      " [-1. -1.  0.  1. -3.  1.  1.  3.]\n",
      " [ 1.  1.  1.  0. -1. -1. -1.  1.]\n",
      " [ 1.  1. -3. -1.  0. -1. -1. -3.]\n",
      " [ 1. -3.  1. -1. -1.  0.  3.  1.]\n",
      " [ 1. -3.  1. -1. -1.  3.  0.  1.]\n",
      " [-1. -1.  3.  1. -3.  1.  1.  0.]]\n"
     ]
    }
   ],
   "source": [
    "print(hn.weights.round(decimals=3))"
   ]
  },
  {
   "cell_type": "markdown",
   "id": "2f69bf51",
   "metadata": {},
   "source": [
    "Проверим, что предсказания для эталонных объектов – сами объекты"
   ]
  },
  {
   "cell_type": "code",
   "execution_count": 5,
   "id": "dcd48fe0",
   "metadata": {},
   "outputs": [
    {
     "data": {
      "text/plain": [
       "array([ True,  True,  True])"
      ]
     },
     "execution_count": 5,
     "metadata": {},
     "output_type": "execute_result"
    }
   ],
   "source": [
    "np.all(hn.predict(sample) == sample, axis=1)"
   ]
  },
  {
   "cell_type": "markdown",
   "id": "a71917cd",
   "metadata": {},
   "source": [
    "Возмьмём какую нибудь другую выборку и выполним предсказания для неё"
   ]
  },
  {
   "cell_type": "code",
   "execution_count": 6,
   "id": "e76af4f2",
   "metadata": {},
   "outputs": [
    {
     "name": "stdout",
     "output_type": "stream",
     "text": [
      "[[-1  1  1  1 -1 -1 -1  1]\n",
      " [ 1  1 -1  1  1 -1 -1 -1]\n",
      " [-1  1 -1 -1  1 -1 -1 -1]]\n",
      "\n",
      "[[ 1  1 -1 -1 -1 -1 -1 -1]\n",
      " [-1  1  1  1  1 -1  1 -1]\n",
      " [ 1  1 -1 -1  1 -1 -1 -1]]\n",
      "\n",
      "[[False  True False False  True  True  True False]\n",
      " [False  True False  True  True  True False  True]\n",
      " [False  True  True  True  True  True  True  True]]\n"
     ]
    }
   ],
   "source": [
    "np.random.seed(45)\n",
    "test = np.array(np.sign(np.random.random(size=(3, 8)) - 0.5), dtype=np.int32)\n",
    "\n",
    "print(sample, test, test == sample, sep=\"\\n\" * 2)"
   ]
  },
  {
   "cell_type": "code",
   "execution_count": 7,
   "id": "c6c7ed37",
   "metadata": {},
   "outputs": [
    {
     "name": "stdout",
     "output_type": "stream",
     "text": [
      "[[ 1 -1  1  1 -1  1  1  1]]\n"
     ]
    }
   ],
   "source": [
    "pred = hn.predict(np.array([[1, 1, 1, 1, 1, 1, 1, 1]]))\n",
    "\n",
    "print(pred)"
   ]
  },
  {
   "cell_type": "markdown",
   "id": "b7ed7eab",
   "metadata": {},
   "source": [
    "Проверим, что результатом предсказания оказались эталонные объекты"
   ]
  },
  {
   "cell_type": "code",
   "execution_count": 9,
   "id": "1c7cdb22",
   "metadata": {},
   "outputs": [
    {
     "data": {
      "text/plain": [
       "True"
      ]
     },
     "execution_count": 9,
     "metadata": {},
     "output_type": "execute_result"
    }
   ],
   "source": [
    "all(instance in sample for instance in pred)"
   ]
  },
  {
   "cell_type": "markdown",
   "id": "aeaafc3c",
   "metadata": {},
   "source": [
    "Импортируем датасет изображений"
   ]
  },
  {
   "cell_type": "code",
   "execution_count": 10,
   "id": "3ecb954d",
   "metadata": {},
   "outputs": [],
   "source": [
    "(X_train, y_train), (X_test, y_test) = mnist.load_data()"
   ]
  },
  {
   "cell_type": "code",
   "execution_count": 11,
   "id": "e7f0a3e3",
   "metadata": {},
   "outputs": [
    {
     "data": {
      "image/png": "[encoded data removed]",
      "text/plain": [
       "<Figure size 432x288 with 9 Axes>"
      ]
     },
     "metadata": {
      "needs_background": "light"
     },
     "output_type": "display_data"
    }
   ],
   "source": [
    "for i in range(9):  \n",
    "    plt.subplot(330 + 1 + i)\n",
    "    plt.imshow(X_train[i], cmap=plt.get_cmap('gray'))\n",
    "plt.show()"
   ]
  },
  {
   "cell_type": "markdown",
   "id": "60fc6e34",
   "metadata": {},
   "source": [
    "Составляем эталонную выборку из 3 изображения каждой цифры. Изображения приводим в формат векторов размерности $784$ из $1$ и $-1$. Для простоты будем считать сигнал сильным ($1$), если его яркость больше среднего. "
   ]
  },
  {
   "cell_type": "code",
   "execution_count": 12,
   "id": "98747423",
   "metadata": {},
   "outputs": [],
   "source": [
    "full_sample = np.array(np.sign(X_train.reshape(X_train.shape[0], 784) - X_train.mean()), dtype=np.int32)\n",
    "test = np.array(np.sign(X_test.reshape(X_test.shape[0], 784) - X_train.mean()), dtype=np.int32)"
   ]
  },
  {
   "cell_type": "code",
   "execution_count": 29,
   "id": "5cb350ae",
   "metadata": {},
   "outputs": [
    {
     "data": {
      "image/png": "[encoded data removed]",
      "text/plain": [
       "<Figure size 432x288 with 1 Axes>"
      ]
     },
     "metadata": {
      "needs_background": "light"
     },
     "output_type": "display_data"
    }
   ],
   "source": [
    "plt.hist(X_train.flatten())\n",
    "plt.show()"
   ]
  },
  {
   "cell_type": "code",
   "execution_count": 23,
   "id": "da7e6840",
   "metadata": {},
   "outputs": [
    {
     "data": {
      "text/plain": [
       "((30, 784), (30,))"
      ]
     },
     "execution_count": 23,
     "metadata": {},
     "output_type": "execute_result"
    }
   ],
   "source": [
    "sample = []\n",
    "n_instances = 3\n",
    "\n",
    "for number in range(10):\n",
    "    sample += list(full_sample[y_train == number][:n_instances])\n",
    "    \n",
    "sample = np.array(sample, dtype=np.int32)\n",
    "labels = np.array([np.ones(n_instances) * i for i in range(10)]).reshape(len(sample))\n",
    "sample.shape, labels.shape"
   ]
  },
  {
   "cell_type": "markdown",
   "id": "37c67c45",
   "metadata": {},
   "source": [
    "Теперь обучаем сеть Хопфилда"
   ]
  },
  {
   "cell_type": "code",
   "execution_count": 24,
   "id": "59e1833a",
   "metadata": {},
   "outputs": [],
   "source": [
    "hn = HopfieldNetwork(max_iter=1024).fit(sample)"
   ]
  },
  {
   "cell_type": "code",
   "execution_count": 25,
   "id": "520e00ac",
   "metadata": {},
   "outputs": [
    {
     "data": {
      "text/plain": [
       "(784, 784)"
      ]
     },
     "execution_count": 25,
     "metadata": {},
     "output_type": "execute_result"
    }
   ],
   "source": [
    "hn.weights.shape"
   ]
  },
  {
   "cell_type": "markdown",
   "id": "56fc4974",
   "metadata": {},
   "source": [
    "Делаем предсказания для тестовой выборки (десяти каких-нибудь элементов)"
   ]
  },
  {
   "cell_type": "code",
   "execution_count": 26,
   "id": "3aca0bdc",
   "metadata": {},
   "outputs": [],
   "source": [
    "pred = hn.predict(test[20:30])"
   ]
  },
  {
   "cell_type": "code",
   "execution_count": 27,
   "id": "e8bb892b",
   "metadata": {},
   "outputs": [
    {
     "data": {
      "image/png": "[encoded data removed]",
      "text/plain": [
       "<Figure size 720x432 with 20 Axes>"
      ]
     },
     "metadata": {
      "needs_background": "light"
     },
     "output_type": "display_data"
    }
   ],
   "source": [
    "fig, ax = plt.subplots(2, 10, figsize=(10, 6))\n",
    "\n",
    "for i in range(10):  \n",
    "    ax[0, i].imshow(test[i].reshape(28, 28), cmap=plt.get_cmap('gray'))\n",
    "    ax[1, i].imshow(pred[i].reshape(28, 28), cmap=plt.get_cmap('gray'))\n",
    "\n",
    "plt.show()"
   ]
  },
  {
   "cell_type": "code",
   "execution_count": 28,
   "id": "6c1d2602",
   "metadata": {},
   "outputs": [
    {
     "data": {
      "text/plain": [
       "array([[-1, -1, -1, -1, -1, -1, -1, -1, -1, -1, -1, -1, -1, -1, -1, -1,\n",
       "        -1, -1, -1, -1, -1, -1, -1, -1, -1, -1, -1, -1, -1, -1, -1, -1,\n",
       "        -1, -1, -1, -1, -1, -1, -1, -1, -1, -1, -1, -1, -1, -1, -1, -1,\n",
       "        -1, -1, -1, -1, -1, -1, -1, -1, -1, -1, -1, -1, -1, -1, -1, -1,\n",
       "        -1, -1, -1, -1, -1, -1, -1, -1, -1, -1, -1, -1, -1, -1, -1, -1,\n",
       "        -1, -1, -1, -1, -1, -1, -1, -1, -1, -1, -1, -1, -1, -1, -1, -1,\n",
       "        -1, -1, -1, -1, -1, -1, -1, -1, -1, -1, -1, -1, -1, -1, -1, -1,\n",
       "        -1, -1, -1, -1, -1, -1, -1, -1, -1, -1, -1, -1, -1, -1, -1, -1,\n",
       "        -1, -1, -1, -1, -1, -1, -1, -1, -1, -1, -1, -1, -1, -1, -1, -1,\n",
       "        -1, -1, -1, -1, -1, -1, -1, -1, -1, -1, -1, -1, -1, -1, -1, -1,\n",
       "        -1, -1, -1, -1, -1, -1, -1, -1, -1, -1, -1, -1, -1, -1, -1, -1,\n",
       "        -1, -1, -1, -1, -1, -1,  1, -1, -1,  1, -1, -1, -1, -1, -1, -1,\n",
       "        -1, -1, -1, -1, -1, -1, -1, -1, -1, -1, -1, -1, -1, -1, -1, -1,\n",
       "        -1,  1,  1,  1,  1,  1,  1,  1,  1, -1, -1, -1, -1, -1, -1, -1,\n",
       "        -1, -1, -1, -1, -1, -1, -1, -1, -1, -1, -1, -1,  1,  1,  1,  1,\n",
       "         1,  1,  1,  1,  1, -1, -1, -1, -1, -1, -1, -1, -1, -1, -1, -1,\n",
       "        -1, -1, -1, -1, -1, -1, -1, -1,  1,  1,  1,  1,  1,  1,  1,  1,\n",
       "         1, -1, -1, -1, -1, -1, -1, -1, -1, -1, -1, -1, -1, -1, -1, -1,\n",
       "        -1, -1, -1, -1,  1,  1, -1, -1,  1,  1,  1,  1, -1, -1, -1, -1,\n",
       "        -1, -1, -1, -1, -1, -1, -1, -1, -1, -1, -1, -1, -1, -1, -1,  1,\n",
       "         1,  1, -1, -1, -1,  1,  1,  1, -1, -1, -1, -1, -1, -1, -1, -1,\n",
       "        -1, -1, -1, -1, -1, -1, -1, -1, -1, -1, -1,  1,  1, -1,  1,  1,\n",
       "         1,  1,  1, -1, -1, -1, -1, -1, -1, -1, -1, -1, -1, -1, -1, -1,\n",
       "        -1, -1, -1, -1, -1, -1, -1, -1, -1,  1,  1,  1,  1,  1,  1, -1,\n",
       "        -1, -1, -1, -1, -1, -1, -1, -1, -1, -1, -1, -1, -1, -1, -1, -1,\n",
       "        -1, -1, -1,  1,  1,  1,  1,  1,  1,  1, -1, -1, -1, -1, -1, -1,\n",
       "        -1, -1, -1, -1, -1, -1, -1, -1, -1, -1, -1, -1, -1, -1, -1,  1,\n",
       "         1,  1,  1,  1,  1, -1, -1, -1, -1, -1, -1, -1, -1, -1, -1, -1,\n",
       "        -1, -1, -1, -1, -1, -1, -1, -1, -1, -1,  1,  1,  1,  1,  1,  1,\n",
       "         1, -1, -1, -1, -1, -1, -1, -1, -1, -1, -1, -1, -1, -1, -1, -1,\n",
       "        -1, -1, -1, -1, -1, -1, -1, -1, -1,  1,  1,  1, -1, -1, -1, -1,\n",
       "        -1, -1, -1, -1, -1, -1, -1, -1, -1, -1, -1, -1, -1, -1, -1, -1,\n",
       "        -1, -1, -1, -1, -1,  1,  1,  1, -1, -1, -1, -1, -1, -1, -1, -1,\n",
       "        -1, -1, -1, -1, -1, -1, -1, -1, -1, -1, -1, -1, -1, -1, -1, -1,\n",
       "        -1,  1,  1,  1, -1, -1, -1, -1, -1, -1, -1, -1, -1, -1, -1, -1,\n",
       "        -1, -1, -1, -1, -1, -1, -1, -1, -1, -1, -1, -1,  1,  1,  1,  1,\n",
       "        -1, -1, -1, -1, -1, -1, -1, -1, -1, -1, -1, -1, -1, -1, -1, -1,\n",
       "        -1, -1, -1, -1,  1,  1,  1,  1,  1,  1,  1,  1, -1, -1, -1, -1,\n",
       "        -1, -1, -1, -1, -1, -1, -1, -1, -1, -1, -1, -1, -1, -1, -1, -1,\n",
       "        -1, -1,  1,  1,  1, -1, -1, -1, -1, -1, -1, -1, -1, -1, -1, -1,\n",
       "        -1, -1, -1, -1, -1, -1, -1, -1, -1, -1, -1, -1, -1, -1,  1,  1,\n",
       "         1, -1, -1, -1, -1, -1, -1, -1, -1, -1, -1, -1, -1, -1, -1, -1,\n",
       "        -1, -1, -1, -1, -1, -1, -1, -1, -1, -1, -1, -1, -1, -1, -1, -1,\n",
       "        -1, -1, -1, -1, -1, -1, -1, -1, -1, -1, -1, -1, -1, -1, -1, -1,\n",
       "        -1, -1, -1, -1, -1, -1, -1, -1, -1, -1, -1, -1, -1, -1, -1, -1,\n",
       "        -1, -1, -1, -1, -1, -1, -1, -1, -1, -1, -1, -1, -1, -1, -1, -1,\n",
       "        -1, -1, -1, -1, -1, -1, -1, -1, -1, -1, -1, -1, -1, -1, -1, -1,\n",
       "        -1, -1, -1, -1, -1, -1, -1, -1, -1, -1, -1, -1, -1, -1, -1, -1,\n",
       "        -1, -1, -1, -1, -1, -1, -1, -1, -1, -1, -1, -1, -1, -1, -1, -1]])"
      ]
     },
     "execution_count": 28,
     "metadata": {},
     "output_type": "execute_result"
    }
   ],
   "source": [
    "np.unique(hn.predict(test), axis=0)"
   ]
  }
 ],
 "metadata": {
  "kernelspec": {
   "display_name": "Python 3 (ipykernel)",
   "language": "python",
   "name": "python3"
  },
  "language_info": {
   "codemirror_mode": {
    "name": "ipython",
    "version": 3
   },
   "file_extension": ".py",
   "mimetype": "text/x-python",
   "name": "python",
   "nbconvert_exporter": "python",
   "pygments_lexer": "ipython3",
   "version": "3.7.11"
  }
 },
 "nbformat": 4,
 "nbformat_minor": 5
}
